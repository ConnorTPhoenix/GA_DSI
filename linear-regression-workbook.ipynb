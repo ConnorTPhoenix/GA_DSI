{
 "cells": [
  {
   "cell_type": "code",
   "execution_count": 1,
   "metadata": {
    "collapsed": true,
    "slideshow": {
     "slide_type": "skip"
    }
   },
   "outputs": [],
   "source": [
    "from __future__ import division\n",
    "\n",
    "import pandas as pd\n",
    "import numpy as np\n",
    "import matplotlib.pyplot as plt\n",
    "import seaborn as sns\n",
    "\n",
    "%matplotlib inline"
   ]
  },
  {
   "cell_type": "markdown",
   "metadata": {
    "slideshow": {
     "slide_type": "slide"
    }
   },
   "source": [
    "# ![](https://ga-dash.s3.amazonaws.com/production/assets/logo-9f88ae6c9c3871690e33280fcf557f33.png) Linear Regression with Statsmodels and Scikit-Learn\n",
    "Week 3 | Day 1"
   ]
  },
  {
   "cell_type": "markdown",
   "metadata": {
    "slideshow": {
     "slide_type": "slide"
    }
   },
   "source": [
    "### LEARNING OBJECTIVES\n",
    "*After this lesson, you will be able to:*\n",
    "- Describe the assumptions of a linear regression\n",
    "- Evaluate the \"goodness of fit\" of your regression\n",
    "- Perform a linear regression in statsmodels, scikit-learn"
   ]
  },
  {
   "cell_type": "markdown",
   "metadata": {
    "slideshow": {
     "slide_type": "slide"
    }
   },
   "source": [
    "## Let's generate some data"
   ]
  },
  {
   "cell_type": "code",
   "execution_count": 2,
   "metadata": {
    "collapsed": false,
    "slideshow": {
     "slide_type": "-"
    }
   },
   "outputs": [],
   "source": [
    "# create an x and a y that is \n",
    "# 50 plus 2 times x with some random noise around that\n",
    "x = np.linspace(-5, 50, 100)\n",
    "y = 50 + 2 * x  + np.random.normal(0, 20, size=len(x))"
   ]
  },
  {
   "cell_type": "code",
   "execution_count": 3,
   "metadata": {
    "collapsed": false,
    "slideshow": {
     "slide_type": "-"
    }
   },
   "outputs": [
    {
     "data": {
      "text/html": [
       "<div>\n",
       "<table border=\"1\" class=\"dataframe\">\n",
       "  <thead>\n",
       "    <tr style=\"text-align: right;\">\n",
       "      <th></th>\n",
       "      <th>X</th>\n",
       "      <th>Y</th>\n",
       "    </tr>\n",
       "  </thead>\n",
       "  <tbody>\n",
       "    <tr>\n",
       "      <th>0</th>\n",
       "      <td>-5.000000</td>\n",
       "      <td>38.237891</td>\n",
       "    </tr>\n",
       "    <tr>\n",
       "      <th>1</th>\n",
       "      <td>-4.444444</td>\n",
       "      <td>32.408211</td>\n",
       "    </tr>\n",
       "    <tr>\n",
       "      <th>2</th>\n",
       "      <td>-3.888889</td>\n",
       "      <td>27.678906</td>\n",
       "    </tr>\n",
       "    <tr>\n",
       "      <th>3</th>\n",
       "      <td>-3.333333</td>\n",
       "      <td>54.883305</td>\n",
       "    </tr>\n",
       "    <tr>\n",
       "      <th>4</th>\n",
       "      <td>-2.777778</td>\n",
       "      <td>39.740396</td>\n",
       "    </tr>\n",
       "    <tr>\n",
       "      <th>5</th>\n",
       "      <td>-2.222222</td>\n",
       "      <td>86.167615</td>\n",
       "    </tr>\n",
       "    <tr>\n",
       "      <th>6</th>\n",
       "      <td>-1.666667</td>\n",
       "      <td>58.831325</td>\n",
       "    </tr>\n",
       "    <tr>\n",
       "      <th>7</th>\n",
       "      <td>-1.111111</td>\n",
       "      <td>49.002984</td>\n",
       "    </tr>\n",
       "    <tr>\n",
       "      <th>8</th>\n",
       "      <td>-0.555556</td>\n",
       "      <td>29.508284</td>\n",
       "    </tr>\n",
       "    <tr>\n",
       "      <th>9</th>\n",
       "      <td>0.000000</td>\n",
       "      <td>42.786868</td>\n",
       "    </tr>\n",
       "    <tr>\n",
       "      <th>10</th>\n",
       "      <td>0.555556</td>\n",
       "      <td>78.534880</td>\n",
       "    </tr>\n",
       "    <tr>\n",
       "      <th>11</th>\n",
       "      <td>1.111111</td>\n",
       "      <td>61.146891</td>\n",
       "    </tr>\n",
       "    <tr>\n",
       "      <th>12</th>\n",
       "      <td>1.666667</td>\n",
       "      <td>65.151767</td>\n",
       "    </tr>\n",
       "    <tr>\n",
       "      <th>13</th>\n",
       "      <td>2.222222</td>\n",
       "      <td>68.461819</td>\n",
       "    </tr>\n",
       "    <tr>\n",
       "      <th>14</th>\n",
       "      <td>2.777778</td>\n",
       "      <td>72.024830</td>\n",
       "    </tr>\n",
       "    <tr>\n",
       "      <th>15</th>\n",
       "      <td>3.333333</td>\n",
       "      <td>60.857817</td>\n",
       "    </tr>\n",
       "    <tr>\n",
       "      <th>16</th>\n",
       "      <td>3.888889</td>\n",
       "      <td>95.999563</td>\n",
       "    </tr>\n",
       "    <tr>\n",
       "      <th>17</th>\n",
       "      <td>4.444444</td>\n",
       "      <td>58.037386</td>\n",
       "    </tr>\n",
       "    <tr>\n",
       "      <th>18</th>\n",
       "      <td>5.000000</td>\n",
       "      <td>38.403146</td>\n",
       "    </tr>\n",
       "    <tr>\n",
       "      <th>19</th>\n",
       "      <td>5.555556</td>\n",
       "      <td>76.564913</td>\n",
       "    </tr>\n",
       "    <tr>\n",
       "      <th>20</th>\n",
       "      <td>6.111111</td>\n",
       "      <td>83.698728</td>\n",
       "    </tr>\n",
       "    <tr>\n",
       "      <th>21</th>\n",
       "      <td>6.666667</td>\n",
       "      <td>64.651499</td>\n",
       "    </tr>\n",
       "    <tr>\n",
       "      <th>22</th>\n",
       "      <td>7.222222</td>\n",
       "      <td>77.953479</td>\n",
       "    </tr>\n",
       "    <tr>\n",
       "      <th>23</th>\n",
       "      <td>7.777778</td>\n",
       "      <td>57.337240</td>\n",
       "    </tr>\n",
       "    <tr>\n",
       "      <th>24</th>\n",
       "      <td>8.333333</td>\n",
       "      <td>69.721469</td>\n",
       "    </tr>\n",
       "    <tr>\n",
       "      <th>25</th>\n",
       "      <td>8.888889</td>\n",
       "      <td>67.383510</td>\n",
       "    </tr>\n",
       "    <tr>\n",
       "      <th>26</th>\n",
       "      <td>9.444444</td>\n",
       "      <td>92.128372</td>\n",
       "    </tr>\n",
       "    <tr>\n",
       "      <th>27</th>\n",
       "      <td>10.000000</td>\n",
       "      <td>65.817600</td>\n",
       "    </tr>\n",
       "    <tr>\n",
       "      <th>28</th>\n",
       "      <td>10.555556</td>\n",
       "      <td>98.155057</td>\n",
       "    </tr>\n",
       "    <tr>\n",
       "      <th>29</th>\n",
       "      <td>11.111111</td>\n",
       "      <td>56.263810</td>\n",
       "    </tr>\n",
       "    <tr>\n",
       "      <th>...</th>\n",
       "      <td>...</td>\n",
       "      <td>...</td>\n",
       "    </tr>\n",
       "    <tr>\n",
       "      <th>70</th>\n",
       "      <td>33.888889</td>\n",
       "      <td>117.129993</td>\n",
       "    </tr>\n",
       "    <tr>\n",
       "      <th>71</th>\n",
       "      <td>34.444444</td>\n",
       "      <td>94.853654</td>\n",
       "    </tr>\n",
       "    <tr>\n",
       "      <th>72</th>\n",
       "      <td>35.000000</td>\n",
       "      <td>115.076045</td>\n",
       "    </tr>\n",
       "    <tr>\n",
       "      <th>73</th>\n",
       "      <td>35.555556</td>\n",
       "      <td>134.932066</td>\n",
       "    </tr>\n",
       "    <tr>\n",
       "      <th>74</th>\n",
       "      <td>36.111111</td>\n",
       "      <td>147.444425</td>\n",
       "    </tr>\n",
       "    <tr>\n",
       "      <th>75</th>\n",
       "      <td>36.666667</td>\n",
       "      <td>152.971029</td>\n",
       "    </tr>\n",
       "    <tr>\n",
       "      <th>76</th>\n",
       "      <td>37.222222</td>\n",
       "      <td>119.279951</td>\n",
       "    </tr>\n",
       "    <tr>\n",
       "      <th>77</th>\n",
       "      <td>37.777778</td>\n",
       "      <td>134.311695</td>\n",
       "    </tr>\n",
       "    <tr>\n",
       "      <th>78</th>\n",
       "      <td>38.333333</td>\n",
       "      <td>123.302554</td>\n",
       "    </tr>\n",
       "    <tr>\n",
       "      <th>79</th>\n",
       "      <td>38.888889</td>\n",
       "      <td>144.898187</td>\n",
       "    </tr>\n",
       "    <tr>\n",
       "      <th>80</th>\n",
       "      <td>39.444444</td>\n",
       "      <td>119.333941</td>\n",
       "    </tr>\n",
       "    <tr>\n",
       "      <th>81</th>\n",
       "      <td>40.000000</td>\n",
       "      <td>110.952677</td>\n",
       "    </tr>\n",
       "    <tr>\n",
       "      <th>82</th>\n",
       "      <td>40.555556</td>\n",
       "      <td>126.440337</td>\n",
       "    </tr>\n",
       "    <tr>\n",
       "      <th>83</th>\n",
       "      <td>41.111111</td>\n",
       "      <td>135.777499</td>\n",
       "    </tr>\n",
       "    <tr>\n",
       "      <th>84</th>\n",
       "      <td>41.666667</td>\n",
       "      <td>128.762510</td>\n",
       "    </tr>\n",
       "    <tr>\n",
       "      <th>85</th>\n",
       "      <td>42.222222</td>\n",
       "      <td>140.917872</td>\n",
       "    </tr>\n",
       "    <tr>\n",
       "      <th>86</th>\n",
       "      <td>42.777778</td>\n",
       "      <td>164.622841</td>\n",
       "    </tr>\n",
       "    <tr>\n",
       "      <th>87</th>\n",
       "      <td>43.333333</td>\n",
       "      <td>131.723610</td>\n",
       "    </tr>\n",
       "    <tr>\n",
       "      <th>88</th>\n",
       "      <td>43.888889</td>\n",
       "      <td>140.514039</td>\n",
       "    </tr>\n",
       "    <tr>\n",
       "      <th>89</th>\n",
       "      <td>44.444444</td>\n",
       "      <td>104.700251</td>\n",
       "    </tr>\n",
       "    <tr>\n",
       "      <th>90</th>\n",
       "      <td>45.000000</td>\n",
       "      <td>137.208470</td>\n",
       "    </tr>\n",
       "    <tr>\n",
       "      <th>91</th>\n",
       "      <td>45.555556</td>\n",
       "      <td>137.203336</td>\n",
       "    </tr>\n",
       "    <tr>\n",
       "      <th>92</th>\n",
       "      <td>46.111111</td>\n",
       "      <td>153.692714</td>\n",
       "    </tr>\n",
       "    <tr>\n",
       "      <th>93</th>\n",
       "      <td>46.666667</td>\n",
       "      <td>178.474744</td>\n",
       "    </tr>\n",
       "    <tr>\n",
       "      <th>94</th>\n",
       "      <td>47.222222</td>\n",
       "      <td>112.975402</td>\n",
       "    </tr>\n",
       "    <tr>\n",
       "      <th>95</th>\n",
       "      <td>47.777778</td>\n",
       "      <td>150.789502</td>\n",
       "    </tr>\n",
       "    <tr>\n",
       "      <th>96</th>\n",
       "      <td>48.333333</td>\n",
       "      <td>167.009273</td>\n",
       "    </tr>\n",
       "    <tr>\n",
       "      <th>97</th>\n",
       "      <td>48.888889</td>\n",
       "      <td>158.611435</td>\n",
       "    </tr>\n",
       "    <tr>\n",
       "      <th>98</th>\n",
       "      <td>49.444444</td>\n",
       "      <td>149.206451</td>\n",
       "    </tr>\n",
       "    <tr>\n",
       "      <th>99</th>\n",
       "      <td>50.000000</td>\n",
       "      <td>124.081713</td>\n",
       "    </tr>\n",
       "  </tbody>\n",
       "</table>\n",
       "<p>100 rows × 2 columns</p>\n",
       "</div>"
      ],
      "text/plain": [
       "            X           Y\n",
       "0   -5.000000   38.237891\n",
       "1   -4.444444   32.408211\n",
       "2   -3.888889   27.678906\n",
       "3   -3.333333   54.883305\n",
       "4   -2.777778   39.740396\n",
       "5   -2.222222   86.167615\n",
       "6   -1.666667   58.831325\n",
       "7   -1.111111   49.002984\n",
       "8   -0.555556   29.508284\n",
       "9    0.000000   42.786868\n",
       "10   0.555556   78.534880\n",
       "11   1.111111   61.146891\n",
       "12   1.666667   65.151767\n",
       "13   2.222222   68.461819\n",
       "14   2.777778   72.024830\n",
       "15   3.333333   60.857817\n",
       "16   3.888889   95.999563\n",
       "17   4.444444   58.037386\n",
       "18   5.000000   38.403146\n",
       "19   5.555556   76.564913\n",
       "20   6.111111   83.698728\n",
       "21   6.666667   64.651499\n",
       "22   7.222222   77.953479\n",
       "23   7.777778   57.337240\n",
       "24   8.333333   69.721469\n",
       "25   8.888889   67.383510\n",
       "26   9.444444   92.128372\n",
       "27  10.000000   65.817600\n",
       "28  10.555556   98.155057\n",
       "29  11.111111   56.263810\n",
       "..        ...         ...\n",
       "70  33.888889  117.129993\n",
       "71  34.444444   94.853654\n",
       "72  35.000000  115.076045\n",
       "73  35.555556  134.932066\n",
       "74  36.111111  147.444425\n",
       "75  36.666667  152.971029\n",
       "76  37.222222  119.279951\n",
       "77  37.777778  134.311695\n",
       "78  38.333333  123.302554\n",
       "79  38.888889  144.898187\n",
       "80  39.444444  119.333941\n",
       "81  40.000000  110.952677\n",
       "82  40.555556  126.440337\n",
       "83  41.111111  135.777499\n",
       "84  41.666667  128.762510\n",
       "85  42.222222  140.917872\n",
       "86  42.777778  164.622841\n",
       "87  43.333333  131.723610\n",
       "88  43.888889  140.514039\n",
       "89  44.444444  104.700251\n",
       "90  45.000000  137.208470\n",
       "91  45.555556  137.203336\n",
       "92  46.111111  153.692714\n",
       "93  46.666667  178.474744\n",
       "94  47.222222  112.975402\n",
       "95  47.777778  150.789502\n",
       "96  48.333333  167.009273\n",
       "97  48.888889  158.611435\n",
       "98  49.444444  149.206451\n",
       "99  50.000000  124.081713\n",
       "\n",
       "[100 rows x 2 columns]"
      ]
     },
     "execution_count": 3,
     "metadata": {},
     "output_type": "execute_result"
    }
   ],
   "source": [
    "df = pd.DataFrame(zip(x,y), columns=('X', 'Y'))\n",
    "df"
   ]
  },
  {
   "cell_type": "markdown",
   "metadata": {
    "slideshow": {
     "slide_type": "-"
    }
   },
   "source": [
    "## Check the correlation"
   ]
  },
  {
   "cell_type": "code",
   "execution_count": 4,
   "metadata": {
    "collapsed": false,
    "slideshow": {
     "slide_type": "-"
    }
   },
   "outputs": [
    {
     "data": {
      "text/html": [
       "<div>\n",
       "<table border=\"1\" class=\"dataframe\">\n",
       "  <thead>\n",
       "    <tr style=\"text-align: right;\">\n",
       "      <th></th>\n",
       "      <th>X</th>\n",
       "      <th>Y</th>\n",
       "    </tr>\n",
       "  </thead>\n",
       "  <tbody>\n",
       "    <tr>\n",
       "      <th>X</th>\n",
       "      <td>1.000000</td>\n",
       "      <td>0.866707</td>\n",
       "    </tr>\n",
       "    <tr>\n",
       "      <th>Y</th>\n",
       "      <td>0.866707</td>\n",
       "      <td>1.000000</td>\n",
       "    </tr>\n",
       "  </tbody>\n",
       "</table>\n",
       "</div>"
      ],
      "text/plain": [
       "          X         Y\n",
       "X  1.000000  0.866707\n",
       "Y  0.866707  1.000000"
      ]
     },
     "execution_count": 4,
     "metadata": {},
     "output_type": "execute_result"
    }
   ],
   "source": [
    "df.corr()"
   ]
  },
  {
   "cell_type": "markdown",
   "metadata": {
    "slideshow": {
     "slide_type": "slide"
    }
   },
   "source": [
    "## Plot the data"
   ]
  },
  {
   "cell_type": "code",
   "execution_count": 5,
   "metadata": {
    "collapsed": false,
    "slideshow": {
     "slide_type": "-"
    }
   },
   "outputs": [
    {
     "data": {
      "text/plain": [
       "<matplotlib.collections.PathCollection at 0x1045d6290>"
      ]
     },
     "execution_count": 5,
     "metadata": {},
     "output_type": "execute_result"
    },
    {
     "data": {
      "image/png": "[encoded data removed]",
      "text/plain": [
       "<matplotlib.figure.Figure at 0x10ec78510>"
      ]
     },
     "metadata": {},
     "output_type": "display_data"
    }
   ],
   "source": [
    "# create a figure\n",
    "fig = plt.figure(figsize=(15,7))\n",
    "# get the axis of that figure\n",
    "ax = plt.gca()\n",
    "\n",
    "# plot a scatter plot on it with our data\n",
    "ax.scatter(x, y, c='k')"
   ]
  },
  {
   "cell_type": "markdown",
   "metadata": {
    "slideshow": {
     "slide_type": "slide"
    }
   },
   "source": [
    "## Naive/Baseline Prediction\n",
    "\n",
    "What is the best prediction we can make for any data point if we can only use a single value?\n",
    "\n",
    "How can we measure the success of our prediction?"
   ]
  },
  {
   "cell_type": "code",
   "execution_count": 6,
   "metadata": {
    "collapsed": false,
    "slideshow": {
     "slide_type": "slide"
    }
   },
   "outputs": [
    {
     "data": {
      "image/png": "[encoded data removed]",
      "text/plain": [
       "<matplotlib.figure.Figure at 0x10ecaa850>"
      ]
     },
     "metadata": {},
     "output_type": "display_data"
    }
   ],
   "source": [
    "# create a figure\n",
    "fig = plt.figure(figsize=(15,7))\n",
    "# get the axis of that figure\n",
    "ax = plt.gca()\n",
    "\n",
    "# plot a scatter plot on it with our data\n",
    "ax.scatter(df['X'], df['Y'], c='k')\n",
    "ax.plot((df['X'].min(), df['X'].max()),(np.mean(df['Y']), np.mean(df['Y'])), color='r');"
   ]
  },
  {
   "cell_type": "markdown",
   "metadata": {
    "slideshow": {
     "slide_type": "slide"
    }
   },
   "source": [
    "## Let's add that to our DataFrame"
   ]
  },
  {
   "cell_type": "code",
   "execution_count": 7,
   "metadata": {
    "collapsed": false,
    "scrolled": true,
    "slideshow": {
     "slide_type": "-"
    }
   },
   "outputs": [
    {
     "data": {
      "text/html": [
       "<div>\n",
       "<table border=\"1\" class=\"dataframe\">\n",
       "  <thead>\n",
       "    <tr style=\"text-align: right;\">\n",
       "      <th></th>\n",
       "      <th>X</th>\n",
       "      <th>Y</th>\n",
       "      <th>Mean_Yhat</th>\n",
       "    </tr>\n",
       "  </thead>\n",
       "  <tbody>\n",
       "    <tr>\n",
       "      <th>0</th>\n",
       "      <td>-5.000000</td>\n",
       "      <td>38.237891</td>\n",
       "      <td>95.694145</td>\n",
       "    </tr>\n",
       "    <tr>\n",
       "      <th>1</th>\n",
       "      <td>-4.444444</td>\n",
       "      <td>32.408211</td>\n",
       "      <td>95.694145</td>\n",
       "    </tr>\n",
       "    <tr>\n",
       "      <th>2</th>\n",
       "      <td>-3.888889</td>\n",
       "      <td>27.678906</td>\n",
       "      <td>95.694145</td>\n",
       "    </tr>\n",
       "    <tr>\n",
       "      <th>3</th>\n",
       "      <td>-3.333333</td>\n",
       "      <td>54.883305</td>\n",
       "      <td>95.694145</td>\n",
       "    </tr>\n",
       "    <tr>\n",
       "      <th>4</th>\n",
       "      <td>-2.777778</td>\n",
       "      <td>39.740396</td>\n",
       "      <td>95.694145</td>\n",
       "    </tr>\n",
       "    <tr>\n",
       "      <th>5</th>\n",
       "      <td>-2.222222</td>\n",
       "      <td>86.167615</td>\n",
       "      <td>95.694145</td>\n",
       "    </tr>\n",
       "    <tr>\n",
       "      <th>6</th>\n",
       "      <td>-1.666667</td>\n",
       "      <td>58.831325</td>\n",
       "      <td>95.694145</td>\n",
       "    </tr>\n",
       "    <tr>\n",
       "      <th>7</th>\n",
       "      <td>-1.111111</td>\n",
       "      <td>49.002984</td>\n",
       "      <td>95.694145</td>\n",
       "    </tr>\n",
       "    <tr>\n",
       "      <th>8</th>\n",
       "      <td>-0.555556</td>\n",
       "      <td>29.508284</td>\n",
       "      <td>95.694145</td>\n",
       "    </tr>\n",
       "    <tr>\n",
       "      <th>9</th>\n",
       "      <td>0.000000</td>\n",
       "      <td>42.786868</td>\n",
       "      <td>95.694145</td>\n",
       "    </tr>\n",
       "    <tr>\n",
       "      <th>10</th>\n",
       "      <td>0.555556</td>\n",
       "      <td>78.534880</td>\n",
       "      <td>95.694145</td>\n",
       "    </tr>\n",
       "    <tr>\n",
       "      <th>11</th>\n",
       "      <td>1.111111</td>\n",
       "      <td>61.146891</td>\n",
       "      <td>95.694145</td>\n",
       "    </tr>\n",
       "    <tr>\n",
       "      <th>12</th>\n",
       "      <td>1.666667</td>\n",
       "      <td>65.151767</td>\n",
       "      <td>95.694145</td>\n",
       "    </tr>\n",
       "    <tr>\n",
       "      <th>13</th>\n",
       "      <td>2.222222</td>\n",
       "      <td>68.461819</td>\n",
       "      <td>95.694145</td>\n",
       "    </tr>\n",
       "    <tr>\n",
       "      <th>14</th>\n",
       "      <td>2.777778</td>\n",
       "      <td>72.024830</td>\n",
       "      <td>95.694145</td>\n",
       "    </tr>\n",
       "    <tr>\n",
       "      <th>15</th>\n",
       "      <td>3.333333</td>\n",
       "      <td>60.857817</td>\n",
       "      <td>95.694145</td>\n",
       "    </tr>\n",
       "    <tr>\n",
       "      <th>16</th>\n",
       "      <td>3.888889</td>\n",
       "      <td>95.999563</td>\n",
       "      <td>95.694145</td>\n",
       "    </tr>\n",
       "    <tr>\n",
       "      <th>17</th>\n",
       "      <td>4.444444</td>\n",
       "      <td>58.037386</td>\n",
       "      <td>95.694145</td>\n",
       "    </tr>\n",
       "    <tr>\n",
       "      <th>18</th>\n",
       "      <td>5.000000</td>\n",
       "      <td>38.403146</td>\n",
       "      <td>95.694145</td>\n",
       "    </tr>\n",
       "    <tr>\n",
       "      <th>19</th>\n",
       "      <td>5.555556</td>\n",
       "      <td>76.564913</td>\n",
       "      <td>95.694145</td>\n",
       "    </tr>\n",
       "    <tr>\n",
       "      <th>20</th>\n",
       "      <td>6.111111</td>\n",
       "      <td>83.698728</td>\n",
       "      <td>95.694145</td>\n",
       "    </tr>\n",
       "    <tr>\n",
       "      <th>21</th>\n",
       "      <td>6.666667</td>\n",
       "      <td>64.651499</td>\n",
       "      <td>95.694145</td>\n",
       "    </tr>\n",
       "    <tr>\n",
       "      <th>22</th>\n",
       "      <td>7.222222</td>\n",
       "      <td>77.953479</td>\n",
       "      <td>95.694145</td>\n",
       "    </tr>\n",
       "    <tr>\n",
       "      <th>23</th>\n",
       "      <td>7.777778</td>\n",
       "      <td>57.337240</td>\n",
       "      <td>95.694145</td>\n",
       "    </tr>\n",
       "    <tr>\n",
       "      <th>24</th>\n",
       "      <td>8.333333</td>\n",
       "      <td>69.721469</td>\n",
       "      <td>95.694145</td>\n",
       "    </tr>\n",
       "    <tr>\n",
       "      <th>25</th>\n",
       "      <td>8.888889</td>\n",
       "      <td>67.383510</td>\n",
       "      <td>95.694145</td>\n",
       "    </tr>\n",
       "    <tr>\n",
       "      <th>26</th>\n",
       "      <td>9.444444</td>\n",
       "      <td>92.128372</td>\n",
       "      <td>95.694145</td>\n",
       "    </tr>\n",
       "    <tr>\n",
       "      <th>27</th>\n",
       "      <td>10.000000</td>\n",
       "      <td>65.817600</td>\n",
       "      <td>95.694145</td>\n",
       "    </tr>\n",
       "    <tr>\n",
       "      <th>28</th>\n",
       "      <td>10.555556</td>\n",
       "      <td>98.155057</td>\n",
       "      <td>95.694145</td>\n",
       "    </tr>\n",
       "    <tr>\n",
       "      <th>29</th>\n",
       "      <td>11.111111</td>\n",
       "      <td>56.263810</td>\n",
       "      <td>95.694145</td>\n",
       "    </tr>\n",
       "    <tr>\n",
       "      <th>...</th>\n",
       "      <td>...</td>\n",
       "      <td>...</td>\n",
       "      <td>...</td>\n",
       "    </tr>\n",
       "    <tr>\n",
       "      <th>70</th>\n",
       "      <td>33.888889</td>\n",
       "      <td>117.129993</td>\n",
       "      <td>95.694145</td>\n",
       "    </tr>\n",
       "    <tr>\n",
       "      <th>71</th>\n",
       "      <td>34.444444</td>\n",
       "      <td>94.853654</td>\n",
       "      <td>95.694145</td>\n",
       "    </tr>\n",
       "    <tr>\n",
       "      <th>72</th>\n",
       "      <td>35.000000</td>\n",
       "      <td>115.076045</td>\n",
       "      <td>95.694145</td>\n",
       "    </tr>\n",
       "    <tr>\n",
       "      <th>73</th>\n",
       "      <td>35.555556</td>\n",
       "      <td>134.932066</td>\n",
       "      <td>95.694145</td>\n",
       "    </tr>\n",
       "    <tr>\n",
       "      <th>74</th>\n",
       "      <td>36.111111</td>\n",
       "      <td>147.444425</td>\n",
       "      <td>95.694145</td>\n",
       "    </tr>\n",
       "    <tr>\n",
       "      <th>75</th>\n",
       "      <td>36.666667</td>\n",
       "      <td>152.971029</td>\n",
       "      <td>95.694145</td>\n",
       "    </tr>\n",
       "    <tr>\n",
       "      <th>76</th>\n",
       "      <td>37.222222</td>\n",
       "      <td>119.279951</td>\n",
       "      <td>95.694145</td>\n",
       "    </tr>\n",
       "    <tr>\n",
       "      <th>77</th>\n",
       "      <td>37.777778</td>\n",
       "      <td>134.311695</td>\n",
       "      <td>95.694145</td>\n",
       "    </tr>\n",
       "    <tr>\n",
       "      <th>78</th>\n",
       "      <td>38.333333</td>\n",
       "      <td>123.302554</td>\n",
       "      <td>95.694145</td>\n",
       "    </tr>\n",
       "    <tr>\n",
       "      <th>79</th>\n",
       "      <td>38.888889</td>\n",
       "      <td>144.898187</td>\n",
       "      <td>95.694145</td>\n",
       "    </tr>\n",
       "    <tr>\n",
       "      <th>80</th>\n",
       "      <td>39.444444</td>\n",
       "      <td>119.333941</td>\n",
       "      <td>95.694145</td>\n",
       "    </tr>\n",
       "    <tr>\n",
       "      <th>81</th>\n",
       "      <td>40.000000</td>\n",
       "      <td>110.952677</td>\n",
       "      <td>95.694145</td>\n",
       "    </tr>\n",
       "    <tr>\n",
       "      <th>82</th>\n",
       "      <td>40.555556</td>\n",
       "      <td>126.440337</td>\n",
       "      <td>95.694145</td>\n",
       "    </tr>\n",
       "    <tr>\n",
       "      <th>83</th>\n",
       "      <td>41.111111</td>\n",
       "      <td>135.777499</td>\n",
       "      <td>95.694145</td>\n",
       "    </tr>\n",
       "    <tr>\n",
       "      <th>84</th>\n",
       "      <td>41.666667</td>\n",
       "      <td>128.762510</td>\n",
       "      <td>95.694145</td>\n",
       "    </tr>\n",
       "    <tr>\n",
       "      <th>85</th>\n",
       "      <td>42.222222</td>\n",
       "      <td>140.917872</td>\n",
       "      <td>95.694145</td>\n",
       "    </tr>\n",
       "    <tr>\n",
       "      <th>86</th>\n",
       "      <td>42.777778</td>\n",
       "      <td>164.622841</td>\n",
       "      <td>95.694145</td>\n",
       "    </tr>\n",
       "    <tr>\n",
       "      <th>87</th>\n",
       "      <td>43.333333</td>\n",
       "      <td>131.723610</td>\n",
       "      <td>95.694145</td>\n",
       "    </tr>\n",
       "    <tr>\n",
       "      <th>88</th>\n",
       "      <td>43.888889</td>\n",
       "      <td>140.514039</td>\n",
       "      <td>95.694145</td>\n",
       "    </tr>\n",
       "    <tr>\n",
       "      <th>89</th>\n",
       "      <td>44.444444</td>\n",
       "      <td>104.700251</td>\n",
       "      <td>95.694145</td>\n",
       "    </tr>\n",
       "    <tr>\n",
       "      <th>90</th>\n",
       "      <td>45.000000</td>\n",
       "      <td>137.208470</td>\n",
       "      <td>95.694145</td>\n",
       "    </tr>\n",
       "    <tr>\n",
       "      <th>91</th>\n",
       "      <td>45.555556</td>\n",
       "      <td>137.203336</td>\n",
       "      <td>95.694145</td>\n",
       "    </tr>\n",
       "    <tr>\n",
       "      <th>92</th>\n",
       "      <td>46.111111</td>\n",
       "      <td>153.692714</td>\n",
       "      <td>95.694145</td>\n",
       "    </tr>\n",
       "    <tr>\n",
       "      <th>93</th>\n",
       "      <td>46.666667</td>\n",
       "      <td>178.474744</td>\n",
       "      <td>95.694145</td>\n",
       "    </tr>\n",
       "    <tr>\n",
       "      <th>94</th>\n",
       "      <td>47.222222</td>\n",
       "      <td>112.975402</td>\n",
       "      <td>95.694145</td>\n",
       "    </tr>\n",
       "    <tr>\n",
       "      <th>95</th>\n",
       "      <td>47.777778</td>\n",
       "      <td>150.789502</td>\n",
       "      <td>95.694145</td>\n",
       "    </tr>\n",
       "    <tr>\n",
       "      <th>96</th>\n",
       "      <td>48.333333</td>\n",
       "      <td>167.009273</td>\n",
       "      <td>95.694145</td>\n",
       "    </tr>\n",
       "    <tr>\n",
       "      <th>97</th>\n",
       "      <td>48.888889</td>\n",
       "      <td>158.611435</td>\n",
       "      <td>95.694145</td>\n",
       "    </tr>\n",
       "    <tr>\n",
       "      <th>98</th>\n",
       "      <td>49.444444</td>\n",
       "      <td>149.206451</td>\n",
       "      <td>95.694145</td>\n",
       "    </tr>\n",
       "    <tr>\n",
       "      <th>99</th>\n",
       "      <td>50.000000</td>\n",
       "      <td>124.081713</td>\n",
       "      <td>95.694145</td>\n",
       "    </tr>\n",
       "  </tbody>\n",
       "</table>\n",
       "<p>100 rows × 3 columns</p>\n",
       "</div>"
      ],
      "text/plain": [
       "            X           Y  Mean_Yhat\n",
       "0   -5.000000   38.237891  95.694145\n",
       "1   -4.444444   32.408211  95.694145\n",
       "2   -3.888889   27.678906  95.694145\n",
       "3   -3.333333   54.883305  95.694145\n",
       "4   -2.777778   39.740396  95.694145\n",
       "5   -2.222222   86.167615  95.694145\n",
       "6   -1.666667   58.831325  95.694145\n",
       "7   -1.111111   49.002984  95.694145\n",
       "8   -0.555556   29.508284  95.694145\n",
       "9    0.000000   42.786868  95.694145\n",
       "10   0.555556   78.534880  95.694145\n",
       "11   1.111111   61.146891  95.694145\n",
       "12   1.666667   65.151767  95.694145\n",
       "13   2.222222   68.461819  95.694145\n",
       "14   2.777778   72.024830  95.694145\n",
       "15   3.333333   60.857817  95.694145\n",
       "16   3.888889   95.999563  95.694145\n",
       "17   4.444444   58.037386  95.694145\n",
       "18   5.000000   38.403146  95.694145\n",
       "19   5.555556   76.564913  95.694145\n",
       "20   6.111111   83.698728  95.694145\n",
       "21   6.666667   64.651499  95.694145\n",
       "22   7.222222   77.953479  95.694145\n",
       "23   7.777778   57.337240  95.694145\n",
       "24   8.333333   69.721469  95.694145\n",
       "25   8.888889   67.383510  95.694145\n",
       "26   9.444444   92.128372  95.694145\n",
       "27  10.000000   65.817600  95.694145\n",
       "28  10.555556   98.155057  95.694145\n",
       "29  11.111111   56.263810  95.694145\n",
       "..        ...         ...        ...\n",
       "70  33.888889  117.129993  95.694145\n",
       "71  34.444444   94.853654  95.694145\n",
       "72  35.000000  115.076045  95.694145\n",
       "73  35.555556  134.932066  95.694145\n",
       "74  36.111111  147.444425  95.694145\n",
       "75  36.666667  152.971029  95.694145\n",
       "76  37.222222  119.279951  95.694145\n",
       "77  37.777778  134.311695  95.694145\n",
       "78  38.333333  123.302554  95.694145\n",
       "79  38.888889  144.898187  95.694145\n",
       "80  39.444444  119.333941  95.694145\n",
       "81  40.000000  110.952677  95.694145\n",
       "82  40.555556  126.440337  95.694145\n",
       "83  41.111111  135.777499  95.694145\n",
       "84  41.666667  128.762510  95.694145\n",
       "85  42.222222  140.917872  95.694145\n",
       "86  42.777778  164.622841  95.694145\n",
       "87  43.333333  131.723610  95.694145\n",
       "88  43.888889  140.514039  95.694145\n",
       "89  44.444444  104.700251  95.694145\n",
       "90  45.000000  137.208470  95.694145\n",
       "91  45.555556  137.203336  95.694145\n",
       "92  46.111111  153.692714  95.694145\n",
       "93  46.666667  178.474744  95.694145\n",
       "94  47.222222  112.975402  95.694145\n",
       "95  47.777778  150.789502  95.694145\n",
       "96  48.333333  167.009273  95.694145\n",
       "97  48.888889  158.611435  95.694145\n",
       "98  49.444444  149.206451  95.694145\n",
       "99  50.000000  124.081713  95.694145\n",
       "\n",
       "[100 rows x 3 columns]"
      ]
     },
     "execution_count": 7,
     "metadata": {},
     "output_type": "execute_result"
    }
   ],
   "source": [
    "df['Mean_Yhat'] = df['Y'].mean()\n",
    "df"
   ]
  },
  {
   "cell_type": "markdown",
   "metadata": {
    "slideshow": {
     "slide_type": "slide"
    }
   },
   "source": [
    "## How can we calculate our prediction error?"
   ]
  },
  {
   "cell_type": "markdown",
   "metadata": {
    "slideshow": {
     "slide_type": "fragment"
    }
   },
   "source": [
    "<img src=\"https://snag.gy/9R57Or.jpg\">"
   ]
  },
  {
   "cell_type": "markdown",
   "metadata": {
    "slideshow": {
     "slide_type": "slide"
    }
   },
   "source": [
    "## For each x value there is the actual y and our predicted y"
   ]
  },
  {
   "cell_type": "markdown",
   "metadata": {
    "slideshow": {
     "slide_type": "-"
    }
   },
   "source": [
    "<img src=\"http://i.imgur.com/Qs9MwV9.jpg\" width=500>"
   ]
  },
  {
   "cell_type": "markdown",
   "metadata": {
    "slideshow": {
     "slide_type": "slide"
    }
   },
   "source": [
    "<img src=\"http://i.imgur.com/JYi1PBp.jpg\">"
   ]
  },
  {
   "cell_type": "markdown",
   "metadata": {
    "slideshow": {
     "slide_type": "slide"
    }
   },
   "source": [
    "# Let's calculate the MSE (mean squared error)"
   ]
  },
  {
   "cell_type": "code",
   "execution_count": 8,
   "metadata": {
    "collapsed": false,
    "slideshow": {
     "slide_type": "-"
    }
   },
   "outputs": [
    {
     "data": {
      "text/html": [
       "<div>\n",
       "<table border=\"1\" class=\"dataframe\">\n",
       "  <thead>\n",
       "    <tr style=\"text-align: right;\">\n",
       "      <th></th>\n",
       "      <th>X</th>\n",
       "      <th>Y</th>\n",
       "      <th>Mean_Yhat</th>\n",
       "    </tr>\n",
       "  </thead>\n",
       "  <tbody>\n",
       "    <tr>\n",
       "      <th>0</th>\n",
       "      <td>-5.000000</td>\n",
       "      <td>38.237891</td>\n",
       "      <td>95.694145</td>\n",
       "    </tr>\n",
       "    <tr>\n",
       "      <th>1</th>\n",
       "      <td>-4.444444</td>\n",
       "      <td>32.408211</td>\n",
       "      <td>95.694145</td>\n",
       "    </tr>\n",
       "    <tr>\n",
       "      <th>2</th>\n",
       "      <td>-3.888889</td>\n",
       "      <td>27.678906</td>\n",
       "      <td>95.694145</td>\n",
       "    </tr>\n",
       "  </tbody>\n",
       "</table>\n",
       "</div>"
      ],
      "text/plain": [
       "          X          Y  Mean_Yhat\n",
       "0 -5.000000  38.237891  95.694145\n",
       "1 -4.444444  32.408211  95.694145\n",
       "2 -3.888889  27.678906  95.694145"
      ]
     },
     "execution_count": 8,
     "metadata": {},
     "output_type": "execute_result"
    }
   ],
   "source": [
    "df.head(3)"
   ]
  },
  {
   "cell_type": "code",
   "execution_count": 9,
   "metadata": {
    "collapsed": false,
    "slideshow": {
     "slide_type": "-"
    }
   },
   "outputs": [
    {
     "data": {
      "text/plain": [
       "1215.606854308352"
      ]
     },
     "execution_count": 9,
     "metadata": {},
     "output_type": "execute_result"
    }
   ],
   "source": [
    "df['Mean_Yhat_SE'] = np.square(df['Y'] - df['Mean_Yhat'])\n",
    "df['Mean_Yhat_SE'].mean()"
   ]
  },
  {
   "cell_type": "code",
   "execution_count": null,
   "metadata": {
    "collapsed": false
   },
   "outputs": [],
   "source": []
  },
  {
   "cell_type": "markdown",
   "metadata": {
    "slideshow": {
     "slide_type": "slide"
    }
   },
   "source": [
    "## We can confirm this by using scikit-learn's mean_squared_error()"
   ]
  },
  {
   "cell_type": "code",
   "execution_count": 10,
   "metadata": {
    "collapsed": false,
    "slideshow": {
     "slide_type": "-"
    }
   },
   "outputs": [
    {
     "data": {
      "text/plain": [
       "1215.6068543083525"
      ]
     },
     "execution_count": 10,
     "metadata": {},
     "output_type": "execute_result"
    }
   ],
   "source": [
    "from sklearn.metrics import mean_squared_error\n",
    "mse = mean_squared_error(df['Y'], df['Mean_Yhat']) # takes in y and yhat\n",
    "mse"
   ]
  },
  {
   "cell_type": "markdown",
   "metadata": {
    "slideshow": {
     "slide_type": "slide"
    }
   },
   "source": [
    "## How could we improve upon our original naive model?"
   ]
  },
  {
   "cell_type": "markdown",
   "metadata": {
    "slideshow": {
     "slide_type": "fragment"
    }
   },
   "source": [
    "Let y be a function of x\n",
    "\n",
    "$y = mx + b$\n",
    "<br>\n",
    "or\n",
    "<br>\n",
    "$y = \\beta_0 + \\beta_1x_1$\n",
    "\n",
    "So, we just need to find the parameters to plug in here that give us the smallest SSE."
   ]
  },
  {
   "cell_type": "markdown",
   "metadata": {
    "slideshow": {
     "slide_type": "slide"
    }
   },
   "source": [
    "## We saw how to do this in this morning's lecture"
   ]
  },
  {
   "cell_type": "markdown",
   "metadata": {
    "slideshow": {
     "slide_type": "-"
    }
   },
   "source": [
    "<img src=\"https://upload.wikimedia.org/math/e/e/d/eed68731d1230938d457c576deee1bcf.png\">"
   ]
  },
  {
   "cell_type": "markdown",
   "metadata": {
    "slideshow": {
     "slide_type": "slide"
    }
   },
   "source": [
    "## Exercise\n",
    "\n",
    "Use the function we created in the earlier lecture, but this time have it return the MSE.\n",
    "This time pass in the x and y values. Hint: use zip().\n",
    "\n",
    "```python\n",
    "\n",
    "def min_sse(my_list):\n",
    "    \n",
    "    xy_bar = pd.Series([x*y for x,y in my_list]).mean()\n",
    "    x_bar = pd.Series([x[0] for x in my_list]).mean()\n",
    "    y_bar = pd.Series([x[1] for x in my_list]).mean()\n",
    "    x_sq_bar = pd.Series([x[0]**2 for x in my_list]).mean()\n",
    "    x_bar_sq = x_bar**2\n",
    "    \n",
    "    m = (xy_bar - x_bar * y_bar)/(x_sq_bar - x_bar_sq)\n",
    "    a = y_bar - m*x_bar\n",
    "    \n",
    "    return m, a\n",
    "    \n",
    "    \n",
    "    \n",
    "m, a = min_sse([[-1, 0], [1, 3], [2, 4], [3, 7], [4, 10]] )\n",
    "```"
   ]
  },
  {
   "cell_type": "code",
   "execution_count": 11,
   "metadata": {
    "collapsed": false,
    "slideshow": {
     "slide_type": "slide"
    }
   },
   "outputs": [
    {
     "name": "stdout",
     "output_type": "stream",
     "text": [
      "(1.8843156446004647, 53.29704308464539, 302.46632345928066)\n"
     ]
    }
   ],
   "source": [
    "def min_sse(my_list):\n",
    "\n",
    "    xy_bar = pd.Series([x*y for x,y in my_list]).mean()\n",
    "    x_bar = pd.Series([x[0] for x in my_list]).mean()\n",
    "    y_bar = pd.Series([x[1] for x in my_list]).mean()\n",
    "    x_sq_bar = pd.Series([x[0]**2 for x in my_list]).mean()\n",
    "    x_bar_sq = x_bar**2\n",
    "\n",
    "    m = (xy_bar - x_bar * y_bar)/(x_sq_bar - x_bar_sq)\n",
    "    a = y_bar - m*x_bar\n",
    "    \n",
    "    y_hats = []\n",
    "    y_true = []\n",
    "    for x,y in my_list:\n",
    "        y_hat = a + m*x\n",
    "        y_hats.append(y_hat)\n",
    "        y_true.append(y)\n",
    "    \n",
    "    mse = np.mean([np.square(yt-yh) for yt,yh in zip(y_true, y_hats)])\n",
    "    \n",
    "    return m, a, mse\n",
    "\n",
    "\n",
    "\n",
    "m, a, mse = min_sse(zip(x,y))\n",
    "print (m, a, mse)"
   ]
  },
  {
   "cell_type": "code",
   "execution_count": null,
   "metadata": {
    "collapsed": false
   },
   "outputs": [],
   "source": []
  },
  {
   "cell_type": "code",
   "execution_count": null,
   "metadata": {
    "collapsed": true
   },
   "outputs": [],
   "source": []
  },
  {
   "cell_type": "markdown",
   "metadata": {
    "slideshow": {
     "slide_type": "slide"
    }
   },
   "source": [
    "## Simple Linear Regression with Statsmodels"
   ]
  },
  {
   "cell_type": "markdown",
   "metadata": {
    "slideshow": {
     "slide_type": "-"
    }
   },
   "source": [
    "[Documentation](http://statsmodels.sourceforge.net/)"
   ]
  },
  {
   "cell_type": "markdown",
   "metadata": {
    "slideshow": {
     "slide_type": "-"
    }
   },
   "source": [
    "<img src=\"http://i.imgur.com/ap0fSjo.png\" width=600>"
   ]
  },
  {
   "cell_type": "markdown",
   "metadata": {
    "slideshow": {
     "slide_type": "slide"
    }
   },
   "source": [
    "## Let's run our model"
   ]
  },
  {
   "cell_type": "code",
   "execution_count": 12,
   "metadata": {
    "collapsed": false,
    "slideshow": {
     "slide_type": "-"
    }
   },
   "outputs": [
    {
     "data": {
      "text/plain": [
       "array([ -5.        ,  -4.44444444,  -3.88888889,  -3.33333333,\n",
       "        -2.77777778,  -2.22222222,  -1.66666667,  -1.11111111,\n",
       "        -0.55555556,   0.        ,   0.55555556,   1.11111111,\n",
       "         1.66666667,   2.22222222,   2.77777778,   3.33333333,\n",
       "         3.88888889,   4.44444444,   5.        ,   5.55555556,\n",
       "         6.11111111,   6.66666667,   7.22222222,   7.77777778,\n",
       "         8.33333333,   8.88888889,   9.44444444,  10.        ,\n",
       "        10.55555556,  11.11111111,  11.66666667,  12.22222222,\n",
       "        12.77777778,  13.33333333,  13.88888889,  14.44444444,\n",
       "        15.        ,  15.55555556,  16.11111111,  16.66666667,\n",
       "        17.22222222,  17.77777778,  18.33333333,  18.88888889,\n",
       "        19.44444444,  20.        ,  20.55555556,  21.11111111,\n",
       "        21.66666667,  22.22222222,  22.77777778,  23.33333333,\n",
       "        23.88888889,  24.44444444,  25.        ,  25.55555556,\n",
       "        26.11111111,  26.66666667,  27.22222222,  27.77777778,\n",
       "        28.33333333,  28.88888889,  29.44444444,  30.        ,\n",
       "        30.55555556,  31.11111111,  31.66666667,  32.22222222,\n",
       "        32.77777778,  33.33333333,  33.88888889,  34.44444444,\n",
       "        35.        ,  35.55555556,  36.11111111,  36.66666667,\n",
       "        37.22222222,  37.77777778,  38.33333333,  38.88888889,\n",
       "        39.44444444,  40.        ,  40.55555556,  41.11111111,\n",
       "        41.66666667,  42.22222222,  42.77777778,  43.33333333,\n",
       "        43.88888889,  44.44444444,  45.        ,  45.55555556,\n",
       "        46.11111111,  46.66666667,  47.22222222,  47.77777778,\n",
       "        48.33333333,  48.88888889,  49.44444444,  50.        ])"
      ]
     },
     "execution_count": 12,
     "metadata": {},
     "output_type": "execute_result"
    }
   ],
   "source": [
    "import statsmodels.api as sm\n",
    "\n",
    "# need to add an intercept in sm\n",
    "X = sm.add_constant(x)\n",
    "\n",
    "# # fit the model\n",
    "model = sm.OLS(y, X)\n",
    "results = model.fit()\n",
    "# print(results.summary())\n",
    "\n",
    "X = sm.add_constant(x)\n",
    "model = sm.OLS(y,X)\n",
    "results = model.fit()\n",
    "#print(results.summary)\n",
    "x"
   ]
  },
  {
   "cell_type": "markdown",
   "metadata": {
    "slideshow": {
     "slide_type": "slide"
    }
   },
   "source": [
    "## How to get the y_hat for each x"
   ]
  },
  {
   "cell_type": "code",
   "execution_count": 13,
   "metadata": {
    "collapsed": false,
    "slideshow": {
     "slide_type": "-"
    }
   },
   "outputs": [
    {
     "data": {
      "text/plain": [
       "array([  43.87546486,   44.92230689,   45.96914891,   47.01599094,\n",
       "         48.06283296,   49.10967499,   50.15651701,   51.20335904,\n",
       "         52.25020106,   53.29704308,   54.34388511,   55.39072713,\n",
       "         56.43756916,   57.48441118,   58.53125321,   59.57809523,\n",
       "         60.62493726,   61.67177928,   62.71862131,   63.76546333,\n",
       "         64.81230536,   65.85914738,   66.90598941,   67.95283143,\n",
       "         68.99967346,   70.04651548,   71.09335751,   72.14019953,\n",
       "         73.18704156,   74.23388358,   75.2807256 ,   76.32756763,\n",
       "         77.37440965,   78.42125168,   79.4680937 ,   80.51493573,\n",
       "         81.56177775,   82.60861978,   83.6554618 ,   84.70230383,\n",
       "         85.74914585,   86.79598788,   87.8428299 ,   88.88967193,\n",
       "         89.93651395,   90.98335598,   92.030198  ,   93.07704003,\n",
       "         94.12388205,   95.17072408,   96.2175661 ,   97.26440813,\n",
       "         98.31125015,   99.35809217,  100.4049342 ,  101.45177622,\n",
       "        102.49861825,  103.54546027,  104.5923023 ,  105.63914432,\n",
       "        106.68598635,  107.73282837,  108.7796704 ,  109.82651242,\n",
       "        110.87335445,  111.92019647,  112.9670385 ,  114.01388052,\n",
       "        115.06072255,  116.10756457,  117.1544066 ,  118.20124862,\n",
       "        119.24809065,  120.29493267,  121.3417747 ,  122.38861672,\n",
       "        123.43545874,  124.48230077,  125.52914279,  126.57598482,\n",
       "        127.62282684,  128.66966887,  129.71651089,  130.76335292,\n",
       "        131.81019494,  132.85703697,  133.90387899,  134.95072102,\n",
       "        135.99756304,  137.04440507,  138.09124709,  139.13808912,\n",
       "        140.18493114,  141.23177317,  142.27861519,  143.32545722,\n",
       "        144.37229924,  145.41914127,  146.46598329,  147.51282531])"
      ]
     },
     "execution_count": 13,
     "metadata": {},
     "output_type": "execute_result"
    }
   ],
   "source": [
    "results.predict(X)"
   ]
  },
  {
   "cell_type": "markdown",
   "metadata": {
    "slideshow": {
     "slide_type": "slide"
    }
   },
   "source": [
    "## Let's put that in our DataFrame"
   ]
  },
  {
   "cell_type": "code",
   "execution_count": 14,
   "metadata": {
    "collapsed": false,
    "scrolled": true,
    "slideshow": {
     "slide_type": "-"
    }
   },
   "outputs": [
    {
     "data": {
      "text/html": [
       "<div>\n",
       "<table border=\"1\" class=\"dataframe\">\n",
       "  <thead>\n",
       "    <tr style=\"text-align: right;\">\n",
       "      <th></th>\n",
       "      <th>X</th>\n",
       "      <th>Y</th>\n",
       "      <th>Mean_Yhat</th>\n",
       "      <th>Mean_Yhat_SE</th>\n",
       "      <th>OLS_Yhat</th>\n",
       "    </tr>\n",
       "  </thead>\n",
       "  <tbody>\n",
       "    <tr>\n",
       "      <th>0</th>\n",
       "      <td>-5.000000</td>\n",
       "      <td>38.237891</td>\n",
       "      <td>95.694145</td>\n",
       "      <td>3301.221130</td>\n",
       "      <td>43.875465</td>\n",
       "    </tr>\n",
       "    <tr>\n",
       "      <th>1</th>\n",
       "      <td>-4.444444</td>\n",
       "      <td>32.408211</td>\n",
       "      <td>95.694145</td>\n",
       "      <td>4005.109433</td>\n",
       "      <td>44.922307</td>\n",
       "    </tr>\n",
       "    <tr>\n",
       "      <th>2</th>\n",
       "      <td>-3.888889</td>\n",
       "      <td>27.678906</td>\n",
       "      <td>95.694145</td>\n",
       "      <td>4626.072758</td>\n",
       "      <td>45.969149</td>\n",
       "    </tr>\n",
       "    <tr>\n",
       "      <th>3</th>\n",
       "      <td>-3.333333</td>\n",
       "      <td>54.883305</td>\n",
       "      <td>95.694145</td>\n",
       "      <td>1665.524682</td>\n",
       "      <td>47.015991</td>\n",
       "    </tr>\n",
       "    <tr>\n",
       "      <th>4</th>\n",
       "      <td>-2.777778</td>\n",
       "      <td>39.740396</td>\n",
       "      <td>95.694145</td>\n",
       "      <td>3130.822046</td>\n",
       "      <td>48.062833</td>\n",
       "    </tr>\n",
       "    <tr>\n",
       "      <th>5</th>\n",
       "      <td>-2.222222</td>\n",
       "      <td>86.167615</td>\n",
       "      <td>95.694145</td>\n",
       "      <td>90.754768</td>\n",
       "      <td>49.109675</td>\n",
       "    </tr>\n",
       "    <tr>\n",
       "      <th>6</th>\n",
       "      <td>-1.666667</td>\n",
       "      <td>58.831325</td>\n",
       "      <td>95.694145</td>\n",
       "      <td>1358.867497</td>\n",
       "      <td>50.156517</td>\n",
       "    </tr>\n",
       "    <tr>\n",
       "      <th>7</th>\n",
       "      <td>-1.111111</td>\n",
       "      <td>49.002984</td>\n",
       "      <td>95.694145</td>\n",
       "      <td>2180.064500</td>\n",
       "      <td>51.203359</td>\n",
       "    </tr>\n",
       "    <tr>\n",
       "      <th>8</th>\n",
       "      <td>-0.555556</td>\n",
       "      <td>29.508284</td>\n",
       "      <td>95.694145</td>\n",
       "      <td>4380.568262</td>\n",
       "      <td>52.250201</td>\n",
       "    </tr>\n",
       "    <tr>\n",
       "      <th>9</th>\n",
       "      <td>0.000000</td>\n",
       "      <td>42.786868</td>\n",
       "      <td>95.694145</td>\n",
       "      <td>2799.179923</td>\n",
       "      <td>53.297043</td>\n",
       "    </tr>\n",
       "    <tr>\n",
       "      <th>10</th>\n",
       "      <td>0.555556</td>\n",
       "      <td>78.534880</td>\n",
       "      <td>95.694145</td>\n",
       "      <td>294.440389</td>\n",
       "      <td>54.343885</td>\n",
       "    </tr>\n",
       "    <tr>\n",
       "      <th>11</th>\n",
       "      <td>1.111111</td>\n",
       "      <td>61.146891</td>\n",
       "      <td>95.694145</td>\n",
       "      <td>1193.512795</td>\n",
       "      <td>55.390727</td>\n",
       "    </tr>\n",
       "    <tr>\n",
       "      <th>12</th>\n",
       "      <td>1.666667</td>\n",
       "      <td>65.151767</td>\n",
       "      <td>95.694145</td>\n",
       "      <td>932.836838</td>\n",
       "      <td>56.437569</td>\n",
       "    </tr>\n",
       "    <tr>\n",
       "      <th>13</th>\n",
       "      <td>2.222222</td>\n",
       "      <td>68.461819</td>\n",
       "      <td>95.694145</td>\n",
       "      <td>741.599577</td>\n",
       "      <td>57.484411</td>\n",
       "    </tr>\n",
       "    <tr>\n",
       "      <th>14</th>\n",
       "      <td>2.777778</td>\n",
       "      <td>72.024830</td>\n",
       "      <td>95.694145</td>\n",
       "      <td>560.236474</td>\n",
       "      <td>58.531253</td>\n",
       "    </tr>\n",
       "    <tr>\n",
       "      <th>15</th>\n",
       "      <td>3.333333</td>\n",
       "      <td>60.857817</td>\n",
       "      <td>95.694145</td>\n",
       "      <td>1213.569775</td>\n",
       "      <td>59.578095</td>\n",
       "    </tr>\n",
       "    <tr>\n",
       "      <th>16</th>\n",
       "      <td>3.888889</td>\n",
       "      <td>95.999563</td>\n",
       "      <td>95.694145</td>\n",
       "      <td>0.093280</td>\n",
       "      <td>60.624937</td>\n",
       "    </tr>\n",
       "    <tr>\n",
       "      <th>17</th>\n",
       "      <td>4.444444</td>\n",
       "      <td>58.037386</td>\n",
       "      <td>95.694145</td>\n",
       "      <td>1418.031537</td>\n",
       "      <td>61.671779</td>\n",
       "    </tr>\n",
       "    <tr>\n",
       "      <th>18</th>\n",
       "      <td>5.000000</td>\n",
       "      <td>38.403146</td>\n",
       "      <td>95.694145</td>\n",
       "      <td>3282.258564</td>\n",
       "      <td>62.718621</td>\n",
       "    </tr>\n",
       "    <tr>\n",
       "      <th>19</th>\n",
       "      <td>5.555556</td>\n",
       "      <td>76.564913</td>\n",
       "      <td>95.694145</td>\n",
       "      <td>365.927536</td>\n",
       "      <td>63.765463</td>\n",
       "    </tr>\n",
       "    <tr>\n",
       "      <th>20</th>\n",
       "      <td>6.111111</td>\n",
       "      <td>83.698728</td>\n",
       "      <td>95.694145</td>\n",
       "      <td>143.890019</td>\n",
       "      <td>64.812305</td>\n",
       "    </tr>\n",
       "    <tr>\n",
       "      <th>21</th>\n",
       "      <td>6.666667</td>\n",
       "      <td>64.651499</td>\n",
       "      <td>95.694145</td>\n",
       "      <td>963.645884</td>\n",
       "      <td>65.859147</td>\n",
       "    </tr>\n",
       "    <tr>\n",
       "      <th>22</th>\n",
       "      <td>7.222222</td>\n",
       "      <td>77.953479</td>\n",
       "      <td>95.694145</td>\n",
       "      <td>314.731243</td>\n",
       "      <td>66.905989</td>\n",
       "    </tr>\n",
       "    <tr>\n",
       "      <th>23</th>\n",
       "      <td>7.777778</td>\n",
       "      <td>57.337240</td>\n",
       "      <td>95.694145</td>\n",
       "      <td>1471.252192</td>\n",
       "      <td>67.952831</td>\n",
       "    </tr>\n",
       "    <tr>\n",
       "      <th>24</th>\n",
       "      <td>8.333333</td>\n",
       "      <td>69.721469</td>\n",
       "      <td>95.694145</td>\n",
       "      <td>674.579919</td>\n",
       "      <td>68.999673</td>\n",
       "    </tr>\n",
       "    <tr>\n",
       "      <th>25</th>\n",
       "      <td>8.888889</td>\n",
       "      <td>67.383510</td>\n",
       "      <td>95.694145</td>\n",
       "      <td>801.492047</td>\n",
       "      <td>70.046515</td>\n",
       "    </tr>\n",
       "    <tr>\n",
       "      <th>26</th>\n",
       "      <td>9.444444</td>\n",
       "      <td>92.128372</td>\n",
       "      <td>95.694145</td>\n",
       "      <td>12.714734</td>\n",
       "      <td>71.093358</td>\n",
       "    </tr>\n",
       "    <tr>\n",
       "      <th>27</th>\n",
       "      <td>10.000000</td>\n",
       "      <td>65.817600</td>\n",
       "      <td>95.694145</td>\n",
       "      <td>892.607928</td>\n",
       "      <td>72.140200</td>\n",
       "    </tr>\n",
       "    <tr>\n",
       "      <th>28</th>\n",
       "      <td>10.555556</td>\n",
       "      <td>98.155057</td>\n",
       "      <td>95.694145</td>\n",
       "      <td>6.056085</td>\n",
       "      <td>73.187042</td>\n",
       "    </tr>\n",
       "    <tr>\n",
       "      <th>29</th>\n",
       "      <td>11.111111</td>\n",
       "      <td>56.263810</td>\n",
       "      <td>95.694145</td>\n",
       "      <td>1554.751327</td>\n",
       "      <td>74.233884</td>\n",
       "    </tr>\n",
       "    <tr>\n",
       "      <th>...</th>\n",
       "      <td>...</td>\n",
       "      <td>...</td>\n",
       "      <td>...</td>\n",
       "      <td>...</td>\n",
       "      <td>...</td>\n",
       "    </tr>\n",
       "    <tr>\n",
       "      <th>70</th>\n",
       "      <td>33.888889</td>\n",
       "      <td>117.129993</td>\n",
       "      <td>95.694145</td>\n",
       "      <td>459.495583</td>\n",
       "      <td>117.154407</td>\n",
       "    </tr>\n",
       "    <tr>\n",
       "      <th>71</th>\n",
       "      <td>34.444444</td>\n",
       "      <td>94.853654</td>\n",
       "      <td>95.694145</td>\n",
       "      <td>0.706425</td>\n",
       "      <td>118.201249</td>\n",
       "    </tr>\n",
       "    <tr>\n",
       "      <th>72</th>\n",
       "      <td>35.000000</td>\n",
       "      <td>115.076045</td>\n",
       "      <td>95.694145</td>\n",
       "      <td>375.658027</td>\n",
       "      <td>119.248091</td>\n",
       "    </tr>\n",
       "    <tr>\n",
       "      <th>73</th>\n",
       "      <td>35.555556</td>\n",
       "      <td>134.932066</td>\n",
       "      <td>95.694145</td>\n",
       "      <td>1539.614423</td>\n",
       "      <td>120.294933</td>\n",
       "    </tr>\n",
       "    <tr>\n",
       "      <th>74</th>\n",
       "      <td>36.111111</td>\n",
       "      <td>147.444425</td>\n",
       "      <td>95.694145</td>\n",
       "      <td>2678.091445</td>\n",
       "      <td>121.341775</td>\n",
       "    </tr>\n",
       "    <tr>\n",
       "      <th>75</th>\n",
       "      <td>36.666667</td>\n",
       "      <td>152.971029</td>\n",
       "      <td>95.694145</td>\n",
       "      <td>3280.641429</td>\n",
       "      <td>122.388617</td>\n",
       "    </tr>\n",
       "    <tr>\n",
       "      <th>76</th>\n",
       "      <td>37.222222</td>\n",
       "      <td>119.279951</td>\n",
       "      <td>95.694145</td>\n",
       "      <td>556.290259</td>\n",
       "      <td>123.435459</td>\n",
       "    </tr>\n",
       "    <tr>\n",
       "      <th>77</th>\n",
       "      <td>37.777778</td>\n",
       "      <td>134.311695</td>\n",
       "      <td>95.694145</td>\n",
       "      <td>1491.315158</td>\n",
       "      <td>124.482301</td>\n",
       "    </tr>\n",
       "    <tr>\n",
       "      <th>78</th>\n",
       "      <td>38.333333</td>\n",
       "      <td>123.302554</td>\n",
       "      <td>95.694145</td>\n",
       "      <td>762.224222</td>\n",
       "      <td>125.529143</td>\n",
       "    </tr>\n",
       "    <tr>\n",
       "      <th>79</th>\n",
       "      <td>38.888889</td>\n",
       "      <td>144.898187</td>\n",
       "      <td>95.694145</td>\n",
       "      <td>2421.037715</td>\n",
       "      <td>126.575985</td>\n",
       "    </tr>\n",
       "    <tr>\n",
       "      <th>80</th>\n",
       "      <td>39.444444</td>\n",
       "      <td>119.333941</td>\n",
       "      <td>95.694145</td>\n",
       "      <td>558.839954</td>\n",
       "      <td>127.622827</td>\n",
       "    </tr>\n",
       "    <tr>\n",
       "      <th>81</th>\n",
       "      <td>40.000000</td>\n",
       "      <td>110.952677</td>\n",
       "      <td>95.694145</td>\n",
       "      <td>232.822804</td>\n",
       "      <td>128.669669</td>\n",
       "    </tr>\n",
       "    <tr>\n",
       "      <th>82</th>\n",
       "      <td>40.555556</td>\n",
       "      <td>126.440337</td>\n",
       "      <td>95.694145</td>\n",
       "      <td>945.328312</td>\n",
       "      <td>129.716511</td>\n",
       "    </tr>\n",
       "    <tr>\n",
       "      <th>83</th>\n",
       "      <td>41.111111</td>\n",
       "      <td>135.777499</td>\n",
       "      <td>95.694145</td>\n",
       "      <td>1606.675299</td>\n",
       "      <td>130.763353</td>\n",
       "    </tr>\n",
       "    <tr>\n",
       "      <th>84</th>\n",
       "      <td>41.666667</td>\n",
       "      <td>128.762510</td>\n",
       "      <td>95.694145</td>\n",
       "      <td>1093.516734</td>\n",
       "      <td>131.810195</td>\n",
       "    </tr>\n",
       "    <tr>\n",
       "      <th>85</th>\n",
       "      <td>42.222222</td>\n",
       "      <td>140.917872</td>\n",
       "      <td>95.694145</td>\n",
       "      <td>2045.185452</td>\n",
       "      <td>132.857037</td>\n",
       "    </tr>\n",
       "    <tr>\n",
       "      <th>86</th>\n",
       "      <td>42.777778</td>\n",
       "      <td>164.622841</td>\n",
       "      <td>95.694145</td>\n",
       "      <td>4751.165162</td>\n",
       "      <td>133.903879</td>\n",
       "    </tr>\n",
       "    <tr>\n",
       "      <th>87</th>\n",
       "      <td>43.333333</td>\n",
       "      <td>131.723610</td>\n",
       "      <td>95.694145</td>\n",
       "      <td>1298.122340</td>\n",
       "      <td>134.950721</td>\n",
       "    </tr>\n",
       "    <tr>\n",
       "      <th>88</th>\n",
       "      <td>43.888889</td>\n",
       "      <td>140.514039</td>\n",
       "      <td>95.694145</td>\n",
       "      <td>2008.822853</td>\n",
       "      <td>135.997563</td>\n",
       "    </tr>\n",
       "    <tr>\n",
       "      <th>89</th>\n",
       "      <td>44.444444</td>\n",
       "      <td>104.700251</td>\n",
       "      <td>95.694145</td>\n",
       "      <td>81.109951</td>\n",
       "      <td>137.044405</td>\n",
       "    </tr>\n",
       "    <tr>\n",
       "      <th>90</th>\n",
       "      <td>45.000000</td>\n",
       "      <td>137.208470</td>\n",
       "      <td>95.694145</td>\n",
       "      <td>1723.439169</td>\n",
       "      <td>138.091247</td>\n",
       "    </tr>\n",
       "    <tr>\n",
       "      <th>91</th>\n",
       "      <td>45.555556</td>\n",
       "      <td>137.203336</td>\n",
       "      <td>95.694145</td>\n",
       "      <td>1723.012945</td>\n",
       "      <td>139.138089</td>\n",
       "    </tr>\n",
       "    <tr>\n",
       "      <th>92</th>\n",
       "      <td>46.111111</td>\n",
       "      <td>153.692714</td>\n",
       "      <td>95.694145</td>\n",
       "      <td>3363.834028</td>\n",
       "      <td>140.184931</td>\n",
       "    </tr>\n",
       "    <tr>\n",
       "      <th>93</th>\n",
       "      <td>46.666667</td>\n",
       "      <td>178.474744</td>\n",
       "      <td>95.694145</td>\n",
       "      <td>6852.627489</td>\n",
       "      <td>141.231773</td>\n",
       "    </tr>\n",
       "    <tr>\n",
       "      <th>94</th>\n",
       "      <td>47.222222</td>\n",
       "      <td>112.975402</td>\n",
       "      <td>95.694145</td>\n",
       "      <td>298.641857</td>\n",
       "      <td>142.278615</td>\n",
       "    </tr>\n",
       "    <tr>\n",
       "      <th>95</th>\n",
       "      <td>47.777778</td>\n",
       "      <td>150.789502</td>\n",
       "      <td>95.694145</td>\n",
       "      <td>3035.498360</td>\n",
       "      <td>143.325457</td>\n",
       "    </tr>\n",
       "    <tr>\n",
       "      <th>96</th>\n",
       "      <td>48.333333</td>\n",
       "      <td>167.009273</td>\n",
       "      <td>95.694145</td>\n",
       "      <td>5085.847521</td>\n",
       "      <td>144.372299</td>\n",
       "    </tr>\n",
       "    <tr>\n",
       "      <th>97</th>\n",
       "      <td>48.888889</td>\n",
       "      <td>158.611435</td>\n",
       "      <td>95.694145</td>\n",
       "      <td>3958.585398</td>\n",
       "      <td>145.419141</td>\n",
       "    </tr>\n",
       "    <tr>\n",
       "      <th>98</th>\n",
       "      <td>49.444444</td>\n",
       "      <td>149.206451</td>\n",
       "      <td>95.694145</td>\n",
       "      <td>2863.566915</td>\n",
       "      <td>146.465983</td>\n",
       "    </tr>\n",
       "    <tr>\n",
       "      <th>99</th>\n",
       "      <td>50.000000</td>\n",
       "      <td>124.081713</td>\n",
       "      <td>95.694145</td>\n",
       "      <td>805.854026</td>\n",
       "      <td>147.512825</td>\n",
       "    </tr>\n",
       "  </tbody>\n",
       "</table>\n",
       "<p>100 rows × 5 columns</p>\n",
       "</div>"
      ],
      "text/plain": [
       "            X           Y  Mean_Yhat  Mean_Yhat_SE    OLS_Yhat\n",
       "0   -5.000000   38.237891  95.694145   3301.221130   43.875465\n",
       "1   -4.444444   32.408211  95.694145   4005.109433   44.922307\n",
       "2   -3.888889   27.678906  95.694145   4626.072758   45.969149\n",
       "3   -3.333333   54.883305  95.694145   1665.524682   47.015991\n",
       "4   -2.777778   39.740396  95.694145   3130.822046   48.062833\n",
       "5   -2.222222   86.167615  95.694145     90.754768   49.109675\n",
       "6   -1.666667   58.831325  95.694145   1358.867497   50.156517\n",
       "7   -1.111111   49.002984  95.694145   2180.064500   51.203359\n",
       "8   -0.555556   29.508284  95.694145   4380.568262   52.250201\n",
       "9    0.000000   42.786868  95.694145   2799.179923   53.297043\n",
       "10   0.555556   78.534880  95.694145    294.440389   54.343885\n",
       "11   1.111111   61.146891  95.694145   1193.512795   55.390727\n",
       "12   1.666667   65.151767  95.694145    932.836838   56.437569\n",
       "13   2.222222   68.461819  95.694145    741.599577   57.484411\n",
       "14   2.777778   72.024830  95.694145    560.236474   58.531253\n",
       "15   3.333333   60.857817  95.694145   1213.569775   59.578095\n",
       "16   3.888889   95.999563  95.694145      0.093280   60.624937\n",
       "17   4.444444   58.037386  95.694145   1418.031537   61.671779\n",
       "18   5.000000   38.403146  95.694145   3282.258564   62.718621\n",
       "19   5.555556   76.564913  95.694145    365.927536   63.765463\n",
       "20   6.111111   83.698728  95.694145    143.890019   64.812305\n",
       "21   6.666667   64.651499  95.694145    963.645884   65.859147\n",
       "22   7.222222   77.953479  95.694145    314.731243   66.905989\n",
       "23   7.777778   57.337240  95.694145   1471.252192   67.952831\n",
       "24   8.333333   69.721469  95.694145    674.579919   68.999673\n",
       "25   8.888889   67.383510  95.694145    801.492047   70.046515\n",
       "26   9.444444   92.128372  95.694145     12.714734   71.093358\n",
       "27  10.000000   65.817600  95.694145    892.607928   72.140200\n",
       "28  10.555556   98.155057  95.694145      6.056085   73.187042\n",
       "29  11.111111   56.263810  95.694145   1554.751327   74.233884\n",
       "..        ...         ...        ...           ...         ...\n",
       "70  33.888889  117.129993  95.694145    459.495583  117.154407\n",
       "71  34.444444   94.853654  95.694145      0.706425  118.201249\n",
       "72  35.000000  115.076045  95.694145    375.658027  119.248091\n",
       "73  35.555556  134.932066  95.694145   1539.614423  120.294933\n",
       "74  36.111111  147.444425  95.694145   2678.091445  121.341775\n",
       "75  36.666667  152.971029  95.694145   3280.641429  122.388617\n",
       "76  37.222222  119.279951  95.694145    556.290259  123.435459\n",
       "77  37.777778  134.311695  95.694145   1491.315158  124.482301\n",
       "78  38.333333  123.302554  95.694145    762.224222  125.529143\n",
       "79  38.888889  144.898187  95.694145   2421.037715  126.575985\n",
       "80  39.444444  119.333941  95.694145    558.839954  127.622827\n",
       "81  40.000000  110.952677  95.694145    232.822804  128.669669\n",
       "82  40.555556  126.440337  95.694145    945.328312  129.716511\n",
       "83  41.111111  135.777499  95.694145   1606.675299  130.763353\n",
       "84  41.666667  128.762510  95.694145   1093.516734  131.810195\n",
       "85  42.222222  140.917872  95.694145   2045.185452  132.857037\n",
       "86  42.777778  164.622841  95.694145   4751.165162  133.903879\n",
       "87  43.333333  131.723610  95.694145   1298.122340  134.950721\n",
       "88  43.888889  140.514039  95.694145   2008.822853  135.997563\n",
       "89  44.444444  104.700251  95.694145     81.109951  137.044405\n",
       "90  45.000000  137.208470  95.694145   1723.439169  138.091247\n",
       "91  45.555556  137.203336  95.694145   1723.012945  139.138089\n",
       "92  46.111111  153.692714  95.694145   3363.834028  140.184931\n",
       "93  46.666667  178.474744  95.694145   6852.627489  141.231773\n",
       "94  47.222222  112.975402  95.694145    298.641857  142.278615\n",
       "95  47.777778  150.789502  95.694145   3035.498360  143.325457\n",
       "96  48.333333  167.009273  95.694145   5085.847521  144.372299\n",
       "97  48.888889  158.611435  95.694145   3958.585398  145.419141\n",
       "98  49.444444  149.206451  95.694145   2863.566915  146.465983\n",
       "99  50.000000  124.081713  95.694145    805.854026  147.512825\n",
       "\n",
       "[100 rows x 5 columns]"
      ]
     },
     "execution_count": 14,
     "metadata": {},
     "output_type": "execute_result"
    }
   ],
   "source": [
    "df['OLS_Yhat'] = results.predict(X)\n",
    "df"
   ]
  },
  {
   "cell_type": "markdown",
   "metadata": {
    "slideshow": {
     "slide_type": "slide"
    }
   },
   "source": [
    "## Again, let's calculate our MSE"
   ]
  },
  {
   "cell_type": "code",
   "execution_count": 15,
   "metadata": {
    "collapsed": false,
    "slideshow": {
     "slide_type": "-"
    }
   },
   "outputs": [
    {
     "data": {
      "text/plain": [
       "302.46632345928066"
      ]
     },
     "execution_count": 15,
     "metadata": {},
     "output_type": "execute_result"
    }
   ],
   "source": [
    "df['OLS_Yhat_MSE'] = np.square(df['OLS_Yhat'] - df['Y'])\n",
    "df['OLS_Yhat_MSE'].mean()"
   ]
  },
  {
   "cell_type": "code",
   "execution_count": 16,
   "metadata": {
    "collapsed": false,
    "slideshow": {
     "slide_type": "-"
    }
   },
   "outputs": [
    {
     "data": {
      "text/plain": [
       "302.46632345928072"
      ]
     },
     "execution_count": 16,
     "metadata": {},
     "output_type": "execute_result"
    }
   ],
   "source": [
    "mse = mean_squared_error(df['Y'], df['OLS_Yhat'])\n",
    "mse"
   ]
  },
  {
   "cell_type": "markdown",
   "metadata": {
    "slideshow": {
     "slide_type": "slide"
    }
   },
   "source": [
    "## We can now plot our line"
   ]
  },
  {
   "cell_type": "code",
   "execution_count": 17,
   "metadata": {
    "collapsed": false,
    "slideshow": {
     "slide_type": "-"
    }
   },
   "outputs": [
    {
     "data": {
      "image/png": "[encoded data removed]",
      "text/plain": [
       "<matplotlib.figure.Figure at 0x1129e3250>"
      ]
     },
     "metadata": {},
     "output_type": "display_data"
    }
   ],
   "source": [
    "# create a figure\n",
    "fig = plt.figure(figsize=(15,7))\n",
    "# get the axis of that figure\n",
    "ax = plt.gca()\n",
    "\n",
    "# plot a scatter plot on it with our data\n",
    "ax.scatter(x, y, c='k')\n",
    "ax.plot(df['X'], df['OLS_Yhat'], color='r');\n"
   ]
  },
  {
   "cell_type": "markdown",
   "metadata": {
    "slideshow": {
     "slide_type": "slide"
    }
   },
   "source": [
    "## We can also plot our residuals"
   ]
  },
  {
   "cell_type": "code",
   "execution_count": 18,
   "metadata": {
    "collapsed": false,
    "slideshow": {
     "slide_type": "-"
    }
   },
   "outputs": [
    {
     "data": {
      "image/png": "[encoded data removed]",
      "text/plain": [
       "<matplotlib.figure.Figure at 0x112c4e110>"
      ]
     },
     "metadata": {},
     "output_type": "display_data"
    }
   ],
   "source": [
    "# create a figure\n",
    "fig = plt.figure(figsize=(15,7))\n",
    "fig.set_figheight(8)\n",
    "fig.set_figwidth(15)\n",
    "\n",
    "# get the axis\n",
    "ax = fig.gca()\n",
    "\n",
    "# plot it\n",
    "ax.scatter(x=df['X'], y=df['Y'], c='k')\n",
    "ax.plot(df['X'], df['OLS_Yhat'], color='k');\n",
    "\n",
    "# iterate over predictions\n",
    "for _, row in df.iterrows():\n",
    "    plt.plot((row['X'], row['X']), (row['Y'], row['OLS_Yhat']), 'r-')\n"
   ]
  },
  {
   "cell_type": "markdown",
   "metadata": {
    "slideshow": {
     "slide_type": "slide"
    }
   },
   "source": [
    "## How can we get the MSE from the model we created"
   ]
  },
  {
   "cell_type": "code",
   "execution_count": 19,
   "metadata": {
    "collapsed": false,
    "slideshow": {
     "slide_type": "-"
    }
   },
   "outputs": [
    {
     "data": {
      "text/plain": [
       "308.6391055706946"
      ]
     },
     "execution_count": 19,
     "metadata": {},
     "output_type": "execute_result"
    }
   ],
   "source": [
    "results.mse_resid"
   ]
  },
  {
   "cell_type": "markdown",
   "metadata": {
    "slideshow": {
     "slide_type": "slide"
    }
   },
   "source": [
    "## How do we get the betas (model coefficients)?"
   ]
  },
  {
   "cell_type": "code",
   "execution_count": 20,
   "metadata": {
    "collapsed": false,
    "slideshow": {
     "slide_type": "-"
    }
   },
   "outputs": [
    {
     "data": {
      "text/plain": [
       "array([ 53.29704308,   1.88431564])"
      ]
     },
     "execution_count": 20,
     "metadata": {},
     "output_type": "execute_result"
    }
   ],
   "source": [
    "results.params"
   ]
  },
  {
   "cell_type": "markdown",
   "metadata": {
    "slideshow": {
     "slide_type": "-"
    }
   },
   "source": [
    "### Simple linear equation formula\n",
    "$ y = \\beta_0 + \\beta_1X_1$\n",
    "\n",
    "<br>\n",
    "### Plug in the values from our model\n",
    "$ y = 46.53 + 2.08X_1$"
   ]
  },
  {
   "cell_type": "markdown",
   "metadata": {
    "slideshow": {
     "slide_type": "slide"
    }
   },
   "source": [
    "## Plotting the residuals"
   ]
  },
  {
   "cell_type": "code",
   "execution_count": 21,
   "metadata": {
    "collapsed": false
   },
   "outputs": [
    {
     "data": {
      "text/plain": [
       "array([ -5.63757383e+00,  -1.25140957e+01,  -1.82902430e+01,\n",
       "         7.86731390e+00,  -8.32243704e+00,   3.70579404e+01,\n",
       "         8.67480810e+00,  -2.20037478e+00,  -2.27419175e+01,\n",
       "        -1.05101746e+01,   2.41909946e+01,   5.75616343e+00,\n",
       "         8.71419820e+00,   1.09774079e+01,   1.34935769e+01,\n",
       "         1.27972148e+00,   3.53746255e+01,  -3.63439370e+00,\n",
       "        -2.43154752e+01,   1.27994493e+01,   1.88864231e+01,\n",
       "        -1.20764851e+00,   1.10474893e+01,  -1.06155917e+01,\n",
       "         7.21795231e-01,  -2.66300528e+00,   2.10350150e+01,\n",
       "        -6.32259923e+00,   2.49680150e+01,  -1.79700736e+01,\n",
       "         1.01468686e+00,  -1.57811807e+00,  -3.14348100e+00,\n",
       "        -3.08423435e+01,   4.01255597e+01,  -8.71292516e+00,\n",
       "        -3.05357325e+01,  -1.38670542e+00,  -3.59609358e+01,\n",
       "         1.13006633e+01,   1.69858182e+01,  -2.67491309e+01,\n",
       "         1.48213932e+01,  -1.06974664e+01,  -1.03685606e+01,\n",
       "        -7.74661677e+00,   1.48496186e+01,  -8.79894364e+00,\n",
       "        -1.62257028e+01,  -1.48177689e+01,  -4.66542213e+00,\n",
       "        -1.52904451e+01,  -3.80042091e+01,   2.34031306e+01,\n",
       "        -7.34048151e+00,   8.74252522e+00,   7.56631818e+00,\n",
       "         3.63315581e+01,  -2.88792689e+01,   1.16927107e+01,\n",
       "        -2.56929903e+01,   5.47033369e-01,  -1.65176569e+00,\n",
       "         5.06177229e+00,  -1.09748033e+01,   1.48256138e+00,\n",
       "         4.95476426e-01,  -6.20354036e+00,  -1.28802418e+01,\n",
       "        -1.83622990e+01,  -2.44134236e-02,  -2.33475943e+01,\n",
       "        -4.17204608e+00,   1.46371331e+01,   2.61026501e+01,\n",
       "         3.05824123e+01,  -4.15550735e+00,   9.82939419e+00,\n",
       "        -2.22658917e+00,   1.83222019e+01,  -8.28888578e+00,\n",
       "        -1.77169916e+01,  -3.27617397e+00,   5.01414656e+00,\n",
       "        -3.04768531e+00,   8.06083476e+00,   3.07189623e+01,\n",
       "        -3.22711104e+00,   4.51647555e+00,  -3.23441537e+01,\n",
       "        -8.82777139e-01,  -1.93475294e+00,   1.35077831e+01,\n",
       "         3.72429704e+01,  -2.93032127e+01,   7.46404485e+00,\n",
       "         2.26369741e+01,   1.31922940e+01,   2.74046800e+00,\n",
       "        -2.34311121e+01])"
      ]
     },
     "execution_count": 21,
     "metadata": {},
     "output_type": "execute_result"
    }
   ],
   "source": [
    "results.resid"
   ]
  },
  {
   "cell_type": "code",
   "execution_count": 22,
   "metadata": {
    "collapsed": false,
    "slideshow": {
     "slide_type": "-"
    }
   },
   "outputs": [
    {
     "data": {
      "text/plain": [
       "<matplotlib.collections.PathCollection at 0x11381eb90>"
      ]
     },
     "execution_count": 22,
     "metadata": {},
     "output_type": "execute_result"
    },
    {
     "data": {
      "image/png": "[encoded data removed]",
      "text/plain": [
       "<matplotlib.figure.Figure at 0x112cd4190>"
      ]
     },
     "metadata": {},
     "output_type": "display_data"
    }
   ],
   "source": [
    "plt.scatter(x, results.resid)"
   ]
  },
  {
   "cell_type": "markdown",
   "metadata": {
    "slideshow": {
     "slide_type": "slide"
    }
   },
   "source": [
    "## Exercise\n",
    "\n",
    "Using stats models do/answer the following:\n",
    "- Fit a model to the dataset (of cricket chirps per min by temperature) given below\n",
    "- What is the equation of the line?\n",
    "- What is the mse?\n",
    "- Plot the data with the fitted line\n",
    "- Plot the residuals - are they normal?"
   ]
  },
  {
   "cell_type": "code",
   "execution_count": 23,
   "metadata": {
    "collapsed": false,
    "slideshow": {
     "slide_type": "slide"
    }
   },
   "outputs": [],
   "source": [
    "chirps = [(20, 88.59999847),\n",
    "(16, 71.59999847),\n",
    "(19.79999924, 93.30000305),\n",
    "(18.39999962, 84.30000305),\n",
    "(17.10000038, 80.59999847),\n",
    "(15.5, 75.19999695),\n",
    "(14.69999981, 69.69999695),\n",
    "(17.10000038, 82),\n",
    "(15.39999962, 69.40000153),\n",
    "(16.20000076, 83.30000305),\n",
    "(15, 79.59999847),\n",
    "(17.20000076, 82.59999847),\n",
    "(16, 80.59999847),\n",
    "(17, 83.5),\n",
    "(14.39999962, 76.30000305)]"
   ]
  },
  {
   "cell_type": "code",
   "execution_count": 24,
   "metadata": {
    "collapsed": false,
    "slideshow": {
     "slide_type": "-"
    }
   },
   "outputs": [],
   "source": [
    "cc=pd.DataFrame(chirps, columns=('x','y'))"
   ]
  },
  {
   "cell_type": "code",
   "execution_count": 25,
   "metadata": {
    "collapsed": false,
    "slideshow": {
     "slide_type": "-"
    }
   },
   "outputs": [
    {
     "name": "stdout",
     "output_type": "stream",
     "text": [
      "                            OLS Regression Results                            \n",
      "==============================================================================\n",
      "Dep. Variable:                      y   R-squared:                       0.697\n",
      "Model:                            OLS   Adj. R-squared:                  0.674\n",
      "Method:                 Least Squares   F-statistic:                     29.97\n",
      "Date:                Sun, 12 Feb 2017   Prob (F-statistic):           0.000107\n",
      "Time:                        13:50:00   Log-Likelihood:                -40.348\n",
      "No. Observations:                  15   AIC:                             84.70\n",
      "Df Residuals:                      13   BIC:                             86.11\n",
      "Df Model:                           1                                         \n",
      "Covariance Type:            nonrobust                                         \n",
      "==============================================================================\n",
      "                 coef    std err          t      P>|t|      [95.0% Conf. Int.]\n",
      "------------------------------------------------------------------------------\n",
      "const         25.2323     10.060      2.508      0.026         3.499    46.966\n",
      "x              3.2911      0.601      5.475      0.000         1.992     4.590\n",
      "==============================================================================\n",
      "Omnibus:                        1.003   Durbin-Watson:                   1.818\n",
      "Prob(Omnibus):                  0.606   Jarque-Bera (JB):                0.874\n",
      "Skew:                          -0.391   Prob(JB):                        0.646\n",
      "Kurtosis:                       2.114   Cond. No.                         171.\n",
      "==============================================================================\n",
      "\n",
      "Warnings:\n",
      "[1] Standard Errors assume that the covariance matrix of the errors is correctly specified.\n",
      "const    25.232305\n",
      "x         3.291095\n",
      "dtype: float64\n",
      "14.6574914941\n"
     ]
    },
    {
     "name": "stderr",
     "output_type": "stream",
     "text": [
      "/Users/connorphoenix/anaconda/lib/python2.7/site-packages/scipy/stats/stats.py:1327: UserWarning: kurtosistest only valid for n>=20 ... continuing anyway, n=15\n",
      "  \"anyway, n=%i\" % int(n))\n"
     ]
    }
   ],
   "source": [
    "import statsmodels.api as sm\n",
    "\n",
    "# need to add an intercept in sm\n",
    "X = sm.add_constant(cc['x'])\n",
    "\n",
    "# fit the model\n",
    "model = sm.OLS(cc['y'], X)\n",
    "results = model.fit()\n",
    "print(results.summary())\n",
    "print(results.params)\n",
    "print(results.mse_resid)"
   ]
  },
  {
   "cell_type": "code",
   "execution_count": 26,
   "metadata": {
    "collapsed": false,
    "slideshow": {
     "slide_type": "slide"
    }
   },
   "outputs": [],
   "source": [
    "#y = 4.79x + 0"
   ]
  },
  {
   "cell_type": "code",
   "execution_count": 27,
   "metadata": {
    "collapsed": false,
    "slideshow": {
     "slide_type": "slide"
    }
   },
   "outputs": [
    {
     "data": {
      "text/plain": [
       "[<matplotlib.lines.Line2D at 0x113b1dc50>]"
      ]
     },
     "execution_count": 27,
     "metadata": {},
     "output_type": "execute_result"
    },
    {
     "data": {
      "image/png": "[encoded data removed]",
      "text/plain": [
       "<matplotlib.figure.Figure at 0x11399cb50>"
      ]
     },
     "metadata": {},
     "output_type": "display_data"
    }
   ],
   "source": [
    "fig = plt.figure(figsize=(15,7))\n",
    "# get the axis of that figure\n",
    "ax = plt.gca()\n",
    "\n",
    "# plot a scatter plot on it with our data\n",
    "ax.scatter(cc['x'], cc['y'], c='k')\n",
    "ax.plot(cc['x'], results.predict(X))\n"
   ]
  },
  {
   "cell_type": "code",
   "execution_count": null,
   "metadata": {
    "collapsed": false,
    "slideshow": {
     "slide_type": "slide"
    }
   },
   "outputs": [],
   "source": []
  },
  {
   "cell_type": "code",
   "execution_count": null,
   "metadata": {
    "collapsed": false,
    "slideshow": {
     "slide_type": "slide"
    }
   },
   "outputs": [],
   "source": []
  },
  {
   "cell_type": "markdown",
   "metadata": {
    "slideshow": {
     "slide_type": "slide"
    }
   },
   "source": [
    "## Assumptions of linear regression\n",
    "\n",
    "- Linear and additive relationship between dependent and independent variables\n",
    "- Statistical independence of errors\n",
    "- Homoskedasticity of errors (constant variance)\n",
    "- Normality of errors (with a mean 0)"
   ]
  },
  {
   "cell_type": "markdown",
   "metadata": {
    "slideshow": {
     "slide_type": "slide"
    }
   },
   "source": [
    "## Let's see a model that violates some of our assumptions"
   ]
  },
  {
   "cell_type": "code",
   "execution_count": 28,
   "metadata": {
    "collapsed": false,
    "slideshow": {
     "slide_type": "-"
    }
   },
   "outputs": [
    {
     "data": {
      "text/plain": [
       "<matplotlib.collections.PathCollection at 0x113bd9290>"
      ]
     },
     "execution_count": 28,
     "metadata": {},
     "output_type": "execute_result"
    },
    {
     "data": {
      "image/png": "[encoded data removed]",
      "text/plain": [
       "<matplotlib.figure.Figure at 0x1139cc350>"
      ]
     },
     "metadata": {},
     "output_type": "display_data"
    }
   ],
   "source": [
    "# create an x and a y that is \n",
    "# 50 plus 2 times x with some random noise around that\n",
    "x = np.linspace(-5, 50, 100)\n",
    "y = 50 + x ** 2 + np.random.normal(0, 50, size=len(x))\n",
    "\n",
    "# create a figure\n",
    "fig = plt.figure(figsize=(15,7))\n",
    "# get the axis of that figure\n",
    "ax = plt.gca()\n",
    "\n",
    "# plot a scatter plot on it with our data\n",
    "ax.scatter(x, y)"
   ]
  },
  {
   "cell_type": "markdown",
   "metadata": {
    "slideshow": {
     "slide_type": "slide"
    }
   },
   "source": [
    "## Let's fit a model to that"
   ]
  },
  {
   "cell_type": "code",
   "execution_count": 29,
   "metadata": {
    "collapsed": false,
    "slideshow": {
     "slide_type": "-"
    }
   },
   "outputs": [
    {
     "name": "stdout",
     "output_type": "stream",
     "text": [
      "                            OLS Regression Results                            \n",
      "==============================================================================\n",
      "Dep. Variable:                      y   R-squared:                       0.905\n",
      "Model:                            OLS   Adj. R-squared:                  0.904\n",
      "Method:                 Least Squares   F-statistic:                     934.3\n",
      "Date:                Sun, 12 Feb 2017   Prob (F-statistic):           6.62e-52\n",
      "Time:                        13:50:01   Log-Likelihood:                -688.37\n",
      "No. Observations:                 100   AIC:                             1381.\n",
      "Df Residuals:                      98   BIC:                             1386.\n",
      "Df Model:                           1                                         \n",
      "Covariance Type:            nonrobust                                         \n",
      "==============================================================================\n",
      "                 coef    std err          t      P>|t|      [95.0% Conf. Int.]\n",
      "------------------------------------------------------------------------------\n",
      "const       -215.0604     41.111     -5.231      0.000      -296.644  -133.477\n",
      "x1            45.4789      1.488     30.566      0.000        42.526    48.432\n",
      "==============================================================================\n",
      "Omnibus:                        9.754   Durbin-Watson:                   0.109\n",
      "Prob(Omnibus):                  0.008   Jarque-Bera (JB):                9.229\n",
      "Skew:                           0.678   Prob(JB):                      0.00991\n",
      "Kurtosis:                       2.385   Cond. No.                         47.6\n",
      "==============================================================================\n",
      "\n",
      "Warnings:\n",
      "[1] Standard Errors assume that the covariance matrix of the errors is correctly specified.\n"
     ]
    }
   ],
   "source": [
    "# need to add an intercept in sm\n",
    "X = sm.add_constant(x)\n",
    "\n",
    "# fit the model\n",
    "model = sm.OLS(y, X)\n",
    "results = model.fit()\n",
    "print(results.summary())"
   ]
  },
  {
   "cell_type": "markdown",
   "metadata": {
    "slideshow": {
     "slide_type": "slide"
    }
   },
   "source": [
    "## Let's plot our line"
   ]
  },
  {
   "cell_type": "code",
   "execution_count": 30,
   "metadata": {
    "collapsed": false,
    "slideshow": {
     "slide_type": "-"
    }
   },
   "outputs": [
    {
     "data": {
      "image/png": "[encoded data removed]",
      "text/plain": [
       "<matplotlib.figure.Figure at 0x112c7a250>"
      ]
     },
     "metadata": {},
     "output_type": "display_data"
    }
   ],
   "source": [
    "# create a figure\n",
    "fig = plt.figure(figsize=(15,7))\n",
    "# get the axis of that figure\n",
    "ax = plt.gca()\n",
    "\n",
    "# plot a scatter plot on it with our data\n",
    "ax.scatter(x, y, c='k')\n",
    "ax.plot(x, results.predict(X), color='r');\n"
   ]
  },
  {
   "cell_type": "markdown",
   "metadata": {
    "slideshow": {
     "slide_type": "slide"
    }
   },
   "source": [
    "## What might the residuals on that look like?"
   ]
  },
  {
   "cell_type": "code",
   "execution_count": 31,
   "metadata": {
    "collapsed": false,
    "slideshow": {
     "slide_type": "-"
    }
   },
   "outputs": [
    {
     "data": {
      "text/plain": [
       "<matplotlib.collections.PathCollection at 0x1142eaa90>"
      ]
     },
     "execution_count": 31,
     "metadata": {},
     "output_type": "execute_result"
    },
    {
     "data": {
      "image/png": "[encoded data removed]",
      "text/plain": [
       "<matplotlib.figure.Figure at 0x113b45490>"
      ]
     },
     "metadata": {},
     "output_type": "display_data"
    }
   ],
   "source": [
    "plt.scatter(x, results.resid)"
   ]
  },
  {
   "cell_type": "markdown",
   "metadata": {
    "slideshow": {
     "slide_type": "slide"
    }
   },
   "source": [
    "## If I make a prediction using this model what will happen?\n",
    "\n",
    "- Under what circumstances will the prediction be way off?"
   ]
  },
  {
   "cell_type": "markdown",
   "metadata": {
    "slideshow": {
     "slide_type": "slide"
    }
   },
   "source": [
    "## Other issues in regression\n",
    "\n",
    "- Multicollineary: When two or more independent variables are highly correlated\n",
    "    - Does not affect predictive accuracy, but can cause model to be interpreted improperly (Check VIF)\n",
    "    - [Read More](http://blog.minitab.com/blog/adventures-in-statistics-2/what-are-the-effects-of-multicollinearity-and-when-can-i-ignore-them)\n",
    "- Heterskedasticity : The variance is not constant\n",
    "    - [Read More](https://en.wikipedia.org/wiki/Heteroscedasticity)\n",
    "    <img src=\"https://static1.squarespace.com/static/4f5694c424aca8d4f8e69194/t/51e9f5d6e4b07ef008368d84/1374287319317/Rplot.income.cone.jpg\" width=300>\n",
    "    \n",
    "[Consequence of LR Assumptions](http://people.duke.edu/~rnau/testing.htm#independence)"
   ]
  },
  {
   "cell_type": "markdown",
   "metadata": {
    "slideshow": {
     "slide_type": "slide"
    }
   },
   "source": [
    "## Transformations"
   ]
  },
  {
   "cell_type": "code",
   "execution_count": 32,
   "metadata": {
    "collapsed": true,
    "slideshow": {
     "slide_type": "-"
    }
   },
   "outputs": [],
   "source": [
    "mammals = pd.read_csv('./msleep.txt')"
   ]
  },
  {
   "cell_type": "code",
   "execution_count": 33,
   "metadata": {
    "collapsed": false,
    "slideshow": {
     "slide_type": "-"
    }
   },
   "outputs": [
    {
     "data": {
      "text/html": [
       "<div>\n",
       "<table border=\"1\" class=\"dataframe\">\n",
       "  <thead>\n",
       "    <tr style=\"text-align: right;\">\n",
       "      <th></th>\n",
       "      <th>name</th>\n",
       "      <th>genus</th>\n",
       "      <th>vore</th>\n",
       "      <th>order</th>\n",
       "      <th>conservation</th>\n",
       "      <th>sleep_total</th>\n",
       "      <th>sleep_rem</th>\n",
       "      <th>sleep_cycle</th>\n",
       "      <th>awake</th>\n",
       "      <th>brainwt</th>\n",
       "      <th>bodywt</th>\n",
       "    </tr>\n",
       "  </thead>\n",
       "  <tbody>\n",
       "    <tr>\n",
       "      <th>0</th>\n",
       "      <td>Cheetah</td>\n",
       "      <td>Acinonyx</td>\n",
       "      <td>carni</td>\n",
       "      <td>Carnivora</td>\n",
       "      <td>lc</td>\n",
       "      <td>12.1</td>\n",
       "      <td>NaN</td>\n",
       "      <td>NaN</td>\n",
       "      <td>11.9</td>\n",
       "      <td>NaN</td>\n",
       "      <td>50.000</td>\n",
       "    </tr>\n",
       "    <tr>\n",
       "      <th>1</th>\n",
       "      <td>Owl monkey</td>\n",
       "      <td>Aotus</td>\n",
       "      <td>omni</td>\n",
       "      <td>Primates</td>\n",
       "      <td>NaN</td>\n",
       "      <td>17.0</td>\n",
       "      <td>1.8</td>\n",
       "      <td>NaN</td>\n",
       "      <td>7.0</td>\n",
       "      <td>0.01550</td>\n",
       "      <td>0.480</td>\n",
       "    </tr>\n",
       "    <tr>\n",
       "      <th>2</th>\n",
       "      <td>Mountain beaver</td>\n",
       "      <td>Aplodontia</td>\n",
       "      <td>herbi</td>\n",
       "      <td>Rodentia</td>\n",
       "      <td>nt</td>\n",
       "      <td>14.4</td>\n",
       "      <td>2.4</td>\n",
       "      <td>NaN</td>\n",
       "      <td>9.6</td>\n",
       "      <td>NaN</td>\n",
       "      <td>1.350</td>\n",
       "    </tr>\n",
       "    <tr>\n",
       "      <th>3</th>\n",
       "      <td>Greater short-tailed shrew</td>\n",
       "      <td>Blarina</td>\n",
       "      <td>omni</td>\n",
       "      <td>Soricomorpha</td>\n",
       "      <td>lc</td>\n",
       "      <td>14.9</td>\n",
       "      <td>2.3</td>\n",
       "      <td>0.133333</td>\n",
       "      <td>9.1</td>\n",
       "      <td>0.00029</td>\n",
       "      <td>0.019</td>\n",
       "    </tr>\n",
       "    <tr>\n",
       "      <th>4</th>\n",
       "      <td>Cow</td>\n",
       "      <td>Bos</td>\n",
       "      <td>herbi</td>\n",
       "      <td>Artiodactyla</td>\n",
       "      <td>domesticated</td>\n",
       "      <td>4.0</td>\n",
       "      <td>0.7</td>\n",
       "      <td>0.666667</td>\n",
       "      <td>20.0</td>\n",
       "      <td>0.42300</td>\n",
       "      <td>600.000</td>\n",
       "    </tr>\n",
       "  </tbody>\n",
       "</table>\n",
       "</div>"
      ],
      "text/plain": [
       "                         name       genus   vore         order  conservation  \\\n",
       "0                     Cheetah    Acinonyx  carni     Carnivora            lc   \n",
       "1                  Owl monkey       Aotus   omni      Primates           NaN   \n",
       "2             Mountain beaver  Aplodontia  herbi      Rodentia            nt   \n",
       "3  Greater short-tailed shrew     Blarina   omni  Soricomorpha            lc   \n",
       "4                         Cow         Bos  herbi  Artiodactyla  domesticated   \n",
       "\n",
       "   sleep_total  sleep_rem  sleep_cycle  awake  brainwt   bodywt  \n",
       "0         12.1        NaN          NaN   11.9      NaN   50.000  \n",
       "1         17.0        1.8          NaN    7.0  0.01550    0.480  \n",
       "2         14.4        2.4          NaN    9.6      NaN    1.350  \n",
       "3         14.9        2.3     0.133333    9.1  0.00029    0.019  \n",
       "4          4.0        0.7     0.666667   20.0  0.42300  600.000  "
      ]
     },
     "execution_count": 33,
     "metadata": {},
     "output_type": "execute_result"
    }
   ],
   "source": [
    "mammals.head()"
   ]
  },
  {
   "cell_type": "code",
   "execution_count": 34,
   "metadata": {
    "collapsed": false,
    "slideshow": {
     "slide_type": "slide"
    }
   },
   "outputs": [
    {
     "name": "stdout",
     "output_type": "stream",
     "text": [
      "<class 'pandas.core.frame.DataFrame'>\n",
      "RangeIndex: 83 entries, 0 to 82\n",
      "Data columns (total 11 columns):\n",
      "name            83 non-null object\n",
      "genus           83 non-null object\n",
      "vore            76 non-null object\n",
      "order           83 non-null object\n",
      "conservation    54 non-null object\n",
      "sleep_total     83 non-null float64\n",
      "sleep_rem       61 non-null float64\n",
      "sleep_cycle     32 non-null float64\n",
      "awake           83 non-null float64\n",
      "brainwt         56 non-null float64\n",
      "bodywt          83 non-null float64\n",
      "dtypes: float64(6), object(5)\n",
      "memory usage: 7.2+ KB\n"
     ]
    }
   ],
   "source": [
    "mammals.info()"
   ]
  },
  {
   "cell_type": "code",
   "execution_count": 35,
   "metadata": {
    "collapsed": false
   },
   "outputs": [],
   "source": [
    "mammals.dropna(subset=['name', 'brainwt', 'bodywt'], inplace=True)"
   ]
  },
  {
   "cell_type": "code",
   "execution_count": 36,
   "metadata": {
    "collapsed": false
   },
   "outputs": [
    {
     "name": "stdout",
     "output_type": "stream",
     "text": [
      "<class 'pandas.core.frame.DataFrame'>\n",
      "Int64Index: 56 entries, 1 to 82\n",
      "Data columns (total 11 columns):\n",
      "name            56 non-null object\n",
      "genus           56 non-null object\n",
      "vore            51 non-null object\n",
      "order           56 non-null object\n",
      "conservation    36 non-null object\n",
      "sleep_total     56 non-null float64\n",
      "sleep_rem       48 non-null float64\n",
      "sleep_cycle     30 non-null float64\n",
      "awake           56 non-null float64\n",
      "brainwt         56 non-null float64\n",
      "bodywt          56 non-null float64\n",
      "dtypes: float64(6), object(5)\n",
      "memory usage: 5.2+ KB\n"
     ]
    }
   ],
   "source": [
    "mammals.info()"
   ]
  },
  {
   "cell_type": "code",
   "execution_count": 37,
   "metadata": {
    "collapsed": true,
    "slideshow": {
     "slide_type": "slide"
    }
   },
   "outputs": [],
   "source": [
    "mammals = mammals[['name', 'bodywt', 'brainwt']].copy()"
   ]
  },
  {
   "cell_type": "code",
   "execution_count": 38,
   "metadata": {
    "collapsed": false,
    "slideshow": {
     "slide_type": "slide"
    }
   },
   "outputs": [
    {
     "data": {
      "text/plain": [
       "<seaborn.axisgrid.FacetGrid at 0x113871390>"
      ]
     },
     "execution_count": 38,
     "metadata": {},
     "output_type": "execute_result"
    },
    {
     "data": {
      "image/png": "[encoded data removed]",
      "text/plain": [
       "<matplotlib.figure.Figure at 0x113fc3d10>"
      ]
     },
     "metadata": {},
     "output_type": "display_data"
    }
   ],
   "source": [
    "import seaborn as sns\n",
    "sns.lmplot('bodywt', 'brainwt', mammals)"
   ]
  },
  {
   "cell_type": "code",
   "execution_count": 39,
   "metadata": {
    "collapsed": false,
    "scrolled": true,
    "slideshow": {
     "slide_type": "slide"
    }
   },
   "outputs": [
    {
     "name": "stdout",
     "output_type": "stream",
     "text": [
      "                            OLS Regression Results                            \n",
      "==============================================================================\n",
      "Dep. Variable:                brainwt   R-squared:                       0.872\n",
      "Model:                            OLS   Adj. R-squared:                  0.870\n",
      "Method:                 Least Squares   F-statistic:                     367.7\n",
      "Date:                Sun, 12 Feb 2017   Prob (F-statistic):           9.16e-26\n",
      "Time:                        13:50:03   Log-Likelihood:                -20.070\n",
      "No. Observations:                  56   AIC:                             44.14\n",
      "Df Residuals:                      54   BIC:                             48.19\n",
      "Df Model:                           1                                         \n",
      "Covariance Type:            nonrobust                                         \n",
      "==============================================================================\n",
      "                 coef    std err          t      P>|t|      [95.0% Conf. Int.]\n",
      "------------------------------------------------------------------------------\n",
      "const          0.0859      0.048      1.782      0.080        -0.011     0.183\n",
      "bodywt         0.0010   5.03e-05     19.176      0.000         0.001     0.001\n",
      "==============================================================================\n",
      "Omnibus:                       85.068   Durbin-Watson:                   2.376\n",
      "Prob(Omnibus):                  0.000   Jarque-Bera (JB):             1330.630\n",
      "Skew:                           4.258   Prob(JB):                    1.14e-289\n",
      "Kurtosis:                      25.311   Cond. No.                         981.\n",
      "==============================================================================\n",
      "\n",
      "Warnings:\n",
      "[1] Standard Errors assume that the covariance matrix of the errors is correctly specified.\n"
     ]
    }
   ],
   "source": [
    "# need to add an intercept in sm\n",
    "MX = sm.add_constant(mammals['bodywt'])\n",
    "MY = mammals['brainwt']\n",
    "\n",
    "# fit the model\n",
    "mammal_model = sm.OLS(MY, MX)\n",
    "mammal_results = mammal_model.fit()\n",
    "print(mammal_results.summary())"
   ]
  },
  {
   "cell_type": "markdown",
   "metadata": {
    "slideshow": {
     "slide_type": "slide"
    }
   },
   "source": [
    "## Let's plot our residuals"
   ]
  },
  {
   "cell_type": "code",
   "execution_count": 40,
   "metadata": {
    "collapsed": false,
    "slideshow": {
     "slide_type": "-"
    }
   },
   "outputs": [
    {
     "data": {
      "text/plain": [
       "<matplotlib.collections.PathCollection at 0x11450fd50>"
      ]
     },
     "execution_count": 40,
     "metadata": {},
     "output_type": "execute_result"
    },
    {
     "data": {
      "image/png": "[encoded data removed]",
      "text/plain": [
       "<matplotlib.figure.Figure at 0x11443e550>"
      ]
     },
     "metadata": {},
     "output_type": "display_data"
    }
   ],
   "source": [
    "plt.scatter(mammals['brainwt'], mammal_results.resid)"
   ]
  },
  {
   "cell_type": "markdown",
   "metadata": {
    "slideshow": {
     "slide_type": "slide"
    }
   },
   "source": [
    "## And let's take a look at our MSE"
   ]
  },
  {
   "cell_type": "code",
   "execution_count": 41,
   "metadata": {
    "collapsed": false,
    "slideshow": {
     "slide_type": "-"
    }
   },
   "outputs": [
    {
     "data": {
      "text/plain": [
       "0.12434232239989515"
      ]
     },
     "execution_count": 41,
     "metadata": {},
     "output_type": "execute_result"
    }
   ],
   "source": [
    "mammal_results.mse_resid"
   ]
  },
  {
   "cell_type": "markdown",
   "metadata": {
    "slideshow": {
     "slide_type": "slide"
    }
   },
   "source": [
    "## Let's try transforming our data by using log/log"
   ]
  },
  {
   "cell_type": "code",
   "execution_count": 42,
   "metadata": {
    "collapsed": false,
    "slideshow": {
     "slide_type": "-"
    }
   },
   "outputs": [
    {
     "data": {
      "text/html": [
       "<div>\n",
       "<table border=\"1\" class=\"dataframe\">\n",
       "  <thead>\n",
       "    <tr style=\"text-align: right;\">\n",
       "      <th></th>\n",
       "      <th>name</th>\n",
       "      <th>bodywt</th>\n",
       "      <th>brainwt</th>\n",
       "      <th>log_bodywt</th>\n",
       "      <th>log_brainwt</th>\n",
       "    </tr>\n",
       "  </thead>\n",
       "  <tbody>\n",
       "    <tr>\n",
       "      <th>1</th>\n",
       "      <td>Owl monkey</td>\n",
       "      <td>0.480</td>\n",
       "      <td>0.01550</td>\n",
       "      <td>-0.318759</td>\n",
       "      <td>-1.809668</td>\n",
       "    </tr>\n",
       "    <tr>\n",
       "      <th>3</th>\n",
       "      <td>Greater short-tailed shrew</td>\n",
       "      <td>0.019</td>\n",
       "      <td>0.00029</td>\n",
       "      <td>-1.721246</td>\n",
       "      <td>-3.537602</td>\n",
       "    </tr>\n",
       "    <tr>\n",
       "      <th>4</th>\n",
       "      <td>Cow</td>\n",
       "      <td>600.000</td>\n",
       "      <td>0.42300</td>\n",
       "      <td>2.778151</td>\n",
       "      <td>-0.373660</td>\n",
       "    </tr>\n",
       "    <tr>\n",
       "      <th>8</th>\n",
       "      <td>Dog</td>\n",
       "      <td>14.000</td>\n",
       "      <td>0.07000</td>\n",
       "      <td>1.146128</td>\n",
       "      <td>-1.154902</td>\n",
       "    </tr>\n",
       "    <tr>\n",
       "      <th>9</th>\n",
       "      <td>Roe deer</td>\n",
       "      <td>14.800</td>\n",
       "      <td>0.09820</td>\n",
       "      <td>1.170262</td>\n",
       "      <td>-1.007889</td>\n",
       "    </tr>\n",
       "  </tbody>\n",
       "</table>\n",
       "</div>"
      ],
      "text/plain": [
       "                         name   bodywt  brainwt  log_bodywt  log_brainwt\n",
       "1                  Owl monkey    0.480  0.01550   -0.318759    -1.809668\n",
       "3  Greater short-tailed shrew    0.019  0.00029   -1.721246    -3.537602\n",
       "4                         Cow  600.000  0.42300    2.778151    -0.373660\n",
       "8                         Dog   14.000  0.07000    1.146128    -1.154902\n",
       "9                    Roe deer   14.800  0.09820    1.170262    -1.007889"
      ]
     },
     "execution_count": 42,
     "metadata": {},
     "output_type": "execute_result"
    }
   ],
   "source": [
    "mammals.loc[:, 'log_bodywt'] = np.log10(mammals['bodywt'])\n",
    "mammals.loc[:, 'log_brainwt'] = np.log10(mammals['brainwt'])\n",
    "mammals.head()"
   ]
  },
  {
   "cell_type": "markdown",
   "metadata": {
    "slideshow": {
     "slide_type": "slide"
    }
   },
   "source": [
    "## We can now plot these"
   ]
  },
  {
   "cell_type": "code",
   "execution_count": 43,
   "metadata": {
    "collapsed": false,
    "slideshow": {
     "slide_type": "-"
    }
   },
   "outputs": [
    {
     "data": {
      "text/plain": [
       "<seaborn.axisgrid.FacetGrid at 0x1145b2bd0>"
      ]
     },
     "execution_count": 43,
     "metadata": {},
     "output_type": "execute_result"
    },
    {
     "data": {
      "image/png": "[encoded data removed]",
      "text/plain": [
       "<matplotlib.figure.Figure at 0x1145a8690>"
      ]
     },
     "metadata": {},
     "output_type": "display_data"
    }
   ],
   "source": [
    "sns.lmplot('log_bodywt', 'log_brainwt', mammals)"
   ]
  },
  {
   "cell_type": "markdown",
   "metadata": {
    "slideshow": {
     "slide_type": "slide"
    }
   },
   "source": [
    "## And refit our model"
   ]
  },
  {
   "cell_type": "code",
   "execution_count": 44,
   "metadata": {
    "collapsed": false,
    "slideshow": {
     "slide_type": "-"
    }
   },
   "outputs": [
    {
     "name": "stdout",
     "output_type": "stream",
     "text": [
      "                            OLS Regression Results                            \n",
      "==============================================================================\n",
      "Dep. Variable:            log_brainwt   R-squared:                       0.932\n",
      "Model:                            OLS   Adj. R-squared:                  0.931\n",
      "Method:                 Least Squares   F-statistic:                     738.4\n",
      "Date:                Sun, 12 Feb 2017   Prob (F-statistic):           3.56e-33\n",
      "Time:                        13:50:04   Log-Likelihood:                -8.9817\n",
      "No. Observations:                  56   AIC:                             21.96\n",
      "Df Residuals:                      54   BIC:                             26.01\n",
      "Df Model:                           1                                         \n",
      "Covariance Type:            nonrobust                                         \n",
      "==============================================================================\n",
      "                 coef    std err          t      P>|t|      [95.0% Conf. Int.]\n",
      "------------------------------------------------------------------------------\n",
      "const         -2.0739      0.040    -51.463      0.000        -2.155    -1.993\n",
      "log_bodywt     0.7652      0.028     27.173      0.000         0.709     0.822\n",
      "==============================================================================\n",
      "Omnibus:                        4.775   Durbin-Watson:                   2.240\n",
      "Prob(Omnibus):                  0.092   Jarque-Bera (JB):                4.060\n",
      "Skew:                           0.653   Prob(JB):                        0.131\n",
      "Kurtosis:                       3.193   Cond. No.                         1.59\n",
      "==============================================================================\n",
      "\n",
      "Warnings:\n",
      "[1] Standard Errors assume that the covariance matrix of the errors is correctly specified.\n"
     ]
    }
   ],
   "source": [
    "# need to add an intercept in sm\n",
    "MX = sm.add_constant(mammals['log_bodywt'])\n",
    "MY = mammals['log_brainwt']\n",
    "\n",
    "# fit the model\n",
    "mammal_model = sm.OLS(MY, MX)\n",
    "mammal_results = mammal_model.fit()\n",
    "print(mammal_results.summary())"
   ]
  },
  {
   "cell_type": "markdown",
   "metadata": {
    "slideshow": {
     "slide_type": "slide"
    }
   },
   "source": [
    "## Again, let's see our MSE"
   ]
  },
  {
   "cell_type": "code",
   "execution_count": 45,
   "metadata": {
    "collapsed": false,
    "slideshow": {
     "slide_type": "-"
    }
   },
   "outputs": [
    {
     "data": {
      "text/plain": [
       "0.083681768842796489"
      ]
     },
     "execution_count": 45,
     "metadata": {},
     "output_type": "execute_result"
    }
   ],
   "source": [
    "mammal_results.mse_resid"
   ]
  },
  {
   "cell_type": "markdown",
   "metadata": {
    "slideshow": {
     "slide_type": "slide"
    }
   },
   "source": [
    "## And plotting our residuals"
   ]
  },
  {
   "cell_type": "code",
   "execution_count": 46,
   "metadata": {
    "collapsed": false,
    "slideshow": {
     "slide_type": "-"
    }
   },
   "outputs": [
    {
     "data": {
      "text/plain": [
       "<matplotlib.collections.PathCollection at 0x113623a90>"
      ]
     },
     "execution_count": 46,
     "metadata": {},
     "output_type": "execute_result"
    },
    {
     "data": {
      "image/png": "[encoded data removed]",
      "text/plain": [
       "<matplotlib.figure.Figure at 0x114933350>"
      ]
     },
     "metadata": {},
     "output_type": "display_data"
    }
   ],
   "source": [
    "plt.scatter(mammals['log_bodywt'], mammal_results.resid)"
   ]
  },
  {
   "cell_type": "markdown",
   "metadata": {
    "slideshow": {
     "slide_type": "slide"
    }
   },
   "source": [
    "## Regression with Scikit-Learn"
   ]
  },
  {
   "cell_type": "markdown",
   "metadata": {
    "slideshow": {
     "slide_type": "-"
    }
   },
   "source": [
    "[Documentation](http://scikit-learn.org/stable/index.html)"
   ]
  },
  {
   "cell_type": "markdown",
   "metadata": {
    "slideshow": {
     "slide_type": "-"
    }
   },
   "source": [
    "<img src=\"http://i.imgur.com/xMmmuxm.png\" width=500>"
   ]
  },
  {
   "cell_type": "markdown",
   "metadata": {
    "slideshow": {
     "slide_type": "slide"
    }
   },
   "source": [
    "## LR documentation\n",
    "\n",
    "<img src=\"http://i.imgur.com/CNojpUU.png\" width=500>"
   ]
  },
  {
   "cell_type": "markdown",
   "metadata": {
    "slideshow": {
     "slide_type": "slide"
    }
   },
   "source": [
    "## Fitting a linear regression in sk-learn"
   ]
  },
  {
   "cell_type": "code",
   "execution_count": 47,
   "metadata": {
    "collapsed": false,
    "slideshow": {
     "slide_type": "-"
    }
   },
   "outputs": [
    {
     "data": {
      "text/plain": [
       "LinearRegression(copy_X=True, fit_intercept=True, n_jobs=1, normalize=False)"
      ]
     },
     "execution_count": 47,
     "metadata": {},
     "output_type": "execute_result"
    }
   ],
   "source": [
    "from sklearn.linear_model import LinearRegression\n",
    "\n",
    "clf = LinearRegression()\n",
    "df['Z'] = [x for x in range(100)]\n",
    "#sklearn can be picky about the shape of your data\n",
    "X = df[['X']].values.reshape(-1, 1)\n",
    "y = df['Y']\n",
    "X\n",
    "clf.fit(X, y)\n",
    "\n"
   ]
  },
  {
   "cell_type": "markdown",
   "metadata": {
    "slideshow": {
     "slide_type": "slide"
    }
   },
   "source": [
    "## Getting our y_hats"
   ]
  },
  {
   "cell_type": "code",
   "execution_count": 48,
   "metadata": {
    "collapsed": false,
    "scrolled": true,
    "slideshow": {
     "slide_type": "-"
    }
   },
   "outputs": [
    {
     "data": {
      "text/plain": [
       "array([  43.87546486,   44.92230689,   45.96914891,   47.01599094,\n",
       "         48.06283296,   49.10967499,   50.15651701,   51.20335904,\n",
       "         52.25020106,   53.29704308,   54.34388511,   55.39072713,\n",
       "         56.43756916,   57.48441118,   58.53125321,   59.57809523,\n",
       "         60.62493726,   61.67177928,   62.71862131,   63.76546333,\n",
       "         64.81230536,   65.85914738,   66.90598941,   67.95283143,\n",
       "         68.99967346,   70.04651548,   71.09335751,   72.14019953,\n",
       "         73.18704156,   74.23388358,   75.2807256 ,   76.32756763,\n",
       "         77.37440965,   78.42125168,   79.4680937 ,   80.51493573,\n",
       "         81.56177775,   82.60861978,   83.6554618 ,   84.70230383,\n",
       "         85.74914585,   86.79598788,   87.8428299 ,   88.88967193,\n",
       "         89.93651395,   90.98335598,   92.030198  ,   93.07704003,\n",
       "         94.12388205,   95.17072408,   96.2175661 ,   97.26440813,\n",
       "         98.31125015,   99.35809217,  100.4049342 ,  101.45177622,\n",
       "        102.49861825,  103.54546027,  104.5923023 ,  105.63914432,\n",
       "        106.68598635,  107.73282837,  108.7796704 ,  109.82651242,\n",
       "        110.87335445,  111.92019647,  112.9670385 ,  114.01388052,\n",
       "        115.06072255,  116.10756457,  117.1544066 ,  118.20124862,\n",
       "        119.24809065,  120.29493267,  121.3417747 ,  122.38861672,\n",
       "        123.43545874,  124.48230077,  125.52914279,  126.57598482,\n",
       "        127.62282684,  128.66966887,  129.71651089,  130.76335292,\n",
       "        131.81019494,  132.85703697,  133.90387899,  134.95072102,\n",
       "        135.99756304,  137.04440507,  138.09124709,  139.13808912,\n",
       "        140.18493114,  141.23177317,  142.27861519,  143.32545722,\n",
       "        144.37229924,  145.41914127,  146.46598329,  147.51282531])"
      ]
     },
     "execution_count": 48,
     "metadata": {},
     "output_type": "execute_result"
    }
   ],
   "source": [
    "# get our predictions\n",
    "clf.predict(X)"
   ]
  },
  {
   "cell_type": "markdown",
   "metadata": {
    "slideshow": {
     "slide_type": "slide"
    }
   },
   "source": [
    "## Getting our intercept, betas, and MSE"
   ]
  },
  {
   "cell_type": "code",
   "execution_count": 49,
   "metadata": {
    "collapsed": false,
    "slideshow": {
     "slide_type": "-"
    }
   },
   "outputs": [
    {
     "data": {
      "text/plain": [
       "53.297043084645559"
      ]
     },
     "execution_count": 49,
     "metadata": {},
     "output_type": "execute_result"
    }
   ],
   "source": [
    "# get our intercept\n",
    "clf.intercept_"
   ]
  },
  {
   "cell_type": "code",
   "execution_count": 50,
   "metadata": {
    "collapsed": false,
    "slideshow": {
     "slide_type": "-"
    }
   },
   "outputs": [
    {
     "data": {
      "text/plain": [
       "array([ 1.88431564])"
      ]
     },
     "execution_count": 50,
     "metadata": {},
     "output_type": "execute_result"
    }
   ],
   "source": [
    "# get our coefficients\n",
    "clf.coef_"
   ]
  },
  {
   "cell_type": "code",
   "execution_count": 51,
   "metadata": {
    "collapsed": false,
    "slideshow": {
     "slide_type": "-"
    }
   },
   "outputs": [
    {
     "data": {
      "text/plain": [
       "302.46632345928066"
      ]
     },
     "execution_count": 51,
     "metadata": {},
     "output_type": "execute_result"
    }
   ],
   "source": [
    "# get our mse\n",
    "mean_squared_error(y, clf.predict(X))"
   ]
  },
  {
   "cell_type": "markdown",
   "metadata": {
    "slideshow": {
     "slide_type": "slide"
    }
   },
   "source": [
    "## Exercise\n",
    "\n",
    "Using the cricket data set, rerun the model using sklearn and answer the same questions as in the previous exercise"
   ]
  },
  {
   "cell_type": "code",
   "execution_count": 52,
   "metadata": {
    "collapsed": true
   },
   "outputs": [],
   "source": [
    "chirps = [(20, 88.59999847),\n",
    "(16, 71.59999847),\n",
    "(19.79999924, 93.30000305),\n",
    "(18.39999962, 84.30000305),\n",
    "(17.10000038, 80.59999847),\n",
    "(15.5, 75.19999695),\n",
    "(14.69999981, 69.69999695),\n",
    "(17.10000038, 82),\n",
    "(15.39999962, 69.40000153),\n",
    "(16.20000076, 83.30000305),\n",
    "(15, 79.59999847),\n",
    "(17.20000076, 82.59999847),\n",
    "(16, 80.59999847),\n",
    "(17, 83.5),\n",
    "(14.39999962, 76.30000305)]"
   ]
  },
  {
   "cell_type": "code",
   "execution_count": 53,
   "metadata": {
    "collapsed": false
   },
   "outputs": [
    {
     "name": "stdout",
     "output_type": "stream",
     "text": [
      "[ 3.29109457]\n",
      "25.2323049834\n",
      "12.7031592949\n"
     ]
    },
    {
     "data": {
      "text/plain": [
       "<matplotlib.collections.PathCollection at 0x11498b610>"
      ]
     },
     "execution_count": 53,
     "metadata": {},
     "output_type": "execute_result"
    },
    {
     "data": {
      "image/png": "[encoded data removed]",
      "text/plain": [
       "<matplotlib.figure.Figure at 0x111c33cd0>"
      ]
     },
     "metadata": {},
     "output_type": "display_data"
    }
   ],
   "source": [
    "chirpdf=pd.DataFrame(chirps, columns=['X','Y'])\n",
    "X = chirpdf['X'].reshape(-1,1)\n",
    "clf = LinearRegression()\n",
    "clf.fit(X, chirpdf['Y'])\n",
    "chirpdf['yhat'] = clf.predict(X)\n",
    "print(clf.coef_)\n",
    "print(clf.intercept_)\n",
    "print(mean_squared_error(clf.predict(X), chirpdf['Y']))\n",
    "plt.scatter(chirpdf['X'],chirpdf['Y'])"
   ]
  },
  {
   "cell_type": "markdown",
   "metadata": {},
   "source": [
    "Using stats models do/answer the following:\n",
    "Fit a model to the dataset (of cricket chirps per min by temperature) given below\n",
    "What is the equation of the line?\n",
    "What is the mse?\n",
    "Plot the data with the fitted line\n",
    "Plot the residuals - are they normal?"
   ]
  },
  {
   "cell_type": "code",
   "execution_count": 54,
   "metadata": {
    "collapsed": true
   },
   "outputs": [],
   "source": [
    "# y = 3.29x + 25.2"
   ]
  },
  {
   "cell_type": "code",
   "execution_count": 55,
   "metadata": {
    "collapsed": false
   },
   "outputs": [
    {
     "ename": "NameError",
     "evalue": "name 'Y' is not defined",
     "output_type": "error",
     "traceback": [
      "\u001b[0;31m---------------------------------------------------------------------------\u001b[0m",
      "\u001b[0;31mNameError\u001b[0m                                 Traceback (most recent call last)",
      "\u001b[0;32m<ipython-input-55-cb7ab012fbee>\u001b[0m in \u001b[0;36m<module>\u001b[0;34m()\u001b[0m\n\u001b[1;32m      8\u001b[0m \u001b[0;34m\u001b[0m\u001b[0m\n\u001b[1;32m      9\u001b[0m \u001b[0;31m# plot it\u001b[0m\u001b[0;34m\u001b[0m\u001b[0;34m\u001b[0m\u001b[0m\n\u001b[0;32m---> 10\u001b[0;31m \u001b[0max\u001b[0m\u001b[0;34m.\u001b[0m\u001b[0mscatter\u001b[0m\u001b[0;34m(\u001b[0m\u001b[0mx\u001b[0m\u001b[0;34m=\u001b[0m\u001b[0mX\u001b[0m\u001b[0;34m,\u001b[0m \u001b[0my\u001b[0m\u001b[0;34m=\u001b[0m\u001b[0mY\u001b[0m\u001b[0;34m,\u001b[0m \u001b[0mc\u001b[0m\u001b[0;34m=\u001b[0m\u001b[0;34m'k'\u001b[0m\u001b[0;34m)\u001b[0m\u001b[0;34m\u001b[0m\u001b[0m\n\u001b[0m\u001b[1;32m     11\u001b[0m \u001b[0max\u001b[0m\u001b[0;34m.\u001b[0m\u001b[0mplot\u001b[0m\u001b[0;34m(\u001b[0m\u001b[0mY\u001b[0m\u001b[0;34m,\u001b[0m \u001b[0mclf\u001b[0m\u001b[0;34m.\u001b[0m\u001b[0mpredict\u001b[0m\u001b[0;34m(\u001b[0m\u001b[0mX\u001b[0m\u001b[0;34m)\u001b[0m\u001b[0;34m,\u001b[0m \u001b[0mcolor\u001b[0m\u001b[0;34m=\u001b[0m\u001b[0;34m'k'\u001b[0m\u001b[0;34m)\u001b[0m\u001b[0;34m;\u001b[0m\u001b[0;34m\u001b[0m\u001b[0m\n",
      "\u001b[0;31mNameError\u001b[0m: name 'Y' is not defined"
     ]
    },
    {
     "data": {
      "image/png": "[encoded data removed]",
      "text/plain": [
       "<matplotlib.figure.Figure at 0x111c33750>"
      ]
     },
     "metadata": {},
     "output_type": "display_data"
    }
   ],
   "source": [
    "# create a figure\n",
    "fig = plt.figure(figsize=(15,7))\n",
    "fig.set_figheight(8)\n",
    "fig.set_figwidth(15)\n",
    "\n",
    "# get the axis\n",
    "ax = fig.gca()\n",
    "\n",
    "# plot it\n",
    "ax.scatter(x=X, y=Y, c='k')\n",
    "ax.plot(Y, clf.predict(X), color='k');"
   ]
  },
  {
   "cell_type": "markdown",
   "metadata": {
    "slideshow": {
     "slide_type": "slide"
    }
   },
   "source": [
    "## Conclusion"
   ]
  },
  {
   "cell_type": "markdown",
   "metadata": {
    "slideshow": {
     "slide_type": "-"
    }
   },
   "source": [
    "In this lecture, we have discussed the following:\n",
    "- The linear regression model\n",
    "- How to fit a linear regression in both statsmodels and sklearn\n",
    "- The assumptions of ols and the consequences of violating those assumptions\n",
    "- How transformations can be beneficial to modeling"
   ]
  }
 ],
 "metadata": {
  "anaconda-cloud": {},
  "celltoolbar": "Slideshow",
  "kernelspec": {
   "display_name": "Python 2",
   "language": "python",
   "name": "python2"
  },
  "language_info": {
   "codemirror_mode": {
    "name": "ipython",
    "version": 2
   },
   "file_extension": ".py",
   "mimetype": "text/x-python",
   "name": "python",
   "nbconvert_exporter": "python",
   "pygments_lexer": "ipython2",
   "version": "2.7.13"
  }
 },
 "nbformat": 4,
 "nbformat_minor": 0
}
